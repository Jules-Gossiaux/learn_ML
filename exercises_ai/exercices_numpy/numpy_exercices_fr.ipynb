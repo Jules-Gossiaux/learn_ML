{
    "cells": [
        {
            "cell_type": "markdown",
            "metadata": {
                "id": "intro",
                "language": "markdown"
            },
            "source": [
                "# Exercices sur NumPy",
                "",
                "Ce notebook contient une série d'exercices sur la bibliothèque NumPy. Chaque exercice est conçu pour vous aider à comprendre et à maîtriser les différentes fonctionnalités de NumPy."
            ]
        },
        {
            "cell_type": "markdown",
            "metadata": {
                "id": "exercice1",
                "language": "markdown"
            },
            "source": [
                "## Exercice 1 : Création de tableaux",
                "",
                "Créez un tableau NumPy contenant les nombres de 0 à 9. Affichez le tableau."
            ]
        },
        {
            "cell_type": "markdown",
            "metadata": {
                "id": "exercice2",
                "language": "markdown"
            },
            "source": [
                "## Exercice 2 : Opérations sur les tableaux",
                "",
                "Créez deux tableaux NumPy de taille 5 avec des valeurs aléatoires. Calculez la somme des deux tableaux et affichez le résultat."
            ]
        },
        {
            "cell_type": "markdown",
            "metadata": {
                "id": "exercice3",
                "language": "markdown"
            },
            "source": [
                "## Exercice 3 : Indexation",
                "",
                "Créez un tableau NumPy de 10 éléments. Accédez et affichez le troisième élément du tableau."
            ]
        },
        {
            "cell_type": "markdown",
            "metadata": {
                "id": "exercice4",
                "language": "markdown"
            },
            "source": [
                "## Exercice 4 : Filtrage",
                "",
                "Créez un tableau NumPy contenant des nombres aléatoires entre 1 et 100. Filtrez et affichez les nombres qui sont supérieurs à 50."
            ]
        },
        {
            "cell_type": "markdown",
            "metadata": {
                "id": "exercice5",
                "language": "markdown"
            },
            "source": [
                "## Exercice 5 : Fonctions mathématiques",
                "",
                "Créez un tableau NumPy de 10 éléments. Calculez et affichez la moyenne, la médiane et l'écart type du tableau."
            ]
        }
    ]
}