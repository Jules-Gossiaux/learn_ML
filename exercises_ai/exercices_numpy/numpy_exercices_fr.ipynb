{
    "cells": [
        {
            "cell_type": "code",
            "execution_count": 1,
            "id": "4516cb7e",
            "metadata": {},
            "outputs": [],
            "source": [
                "import numpy as np"
            ]
        },
        {
            "cell_type": "markdown",
            "metadata": {
                "id": "intro",
                "language": "markdown"
            },
            "source": [
                "# Exercices sur NumPy\n",
                "\n",
                "Ce notebook contient une série d'exercices sur la bibliothèque NumPy. Chaque exercice est conçu pour vous aider à comprendre et à maîtriser les différentes fonctionnalités de NumPy."
            ]
        },
        {
            "cell_type": "markdown",
            "metadata": {
                "id": "exercice1",
                "language": "markdown"
            },
            "source": [
                "## Exercice 1 : Création de tableaux\n",
                "\n",
                "Créez un tableau NumPy contenant les nombres de 0 à 9. Affichez le tableau."
            ]
        },
        {
            "cell_type": "code",
            "execution_count": 4,
            "id": "e895baf0",
            "metadata": {},
            "outputs": [
                {
                    "name": "stdout",
                    "output_type": "stream",
                    "text": [
                        "[0 1 2 3 4 5 6 7 8 9]\n"
                    ]
                }
            ],
            "source": [
                "tab = np.arange(10)\n",
                "print(tab)"
            ]
        },
        {
            "cell_type": "markdown",
            "metadata": {
                "id": "exercice2",
                "language": "markdown"
            },
            "source": [
                "## Exercice 2 : Opérations sur les tableaux\n",
                "\n",
                "Créez deux tableaux NumPy de taille 5 avec des valeurs aléatoires. Calculez la somme des deux tableaux et affichez le résultat."
            ]
        },
        {
            "cell_type": "code",
            "execution_count": null,
            "id": "85168449",
            "metadata": {},
            "outputs": [
                {
                    "name": "stdout",
                    "output_type": "stream",
                    "text": [
                        "[[3 6 5 3 2]]\n"
                    ]
                },
                {
                    "ename": "",
                    "evalue": "",
                    "output_type": "error",
                    "traceback": [
                        "\u001b[1;31mThe Kernel crashed while executing code in the current cell or a previous cell. \n",
                        "\u001b[1;31mPlease review the code in the cell(s) to identify a possible cause of the failure. \n",
                        "\u001b[1;31mClick <a href='https://aka.ms/vscodeJupyterKernelCrash'>here</a> for more info. \n",
                        "\u001b[1;31mView Jupyter <a href='command:jupyter.viewOutput'>log</a> for further details."
                    ]
                }
            ],
            "source": [
                "tab1 = np.random.randint(0, 5, (1, 5))\n",
                "tab2 = np.random.randint(0, 5, (1, 5))\n",
                "\n",
                "result = tab1 + tab2\n",
                "print(result)"
            ]
        },
        {
            "cell_type": "markdown",
            "metadata": {
                "id": "exercice3",
                "language": "markdown"
            },
            "source": [
                "## Exercice 3 : Indexation\n",
                "\n",
                "Créez un tableau NumPy de 10 éléments. Accédez et affichez le troisième élément du tableau."
            ]
        },
        {
            "cell_type": "markdown",
            "metadata": {
                "id": "exercice4",
                "language": "markdown"
            },
            "source": [
                "## Exercice 4 : Filtrage\n",
                "\n",
                "Créez un tableau NumPy contenant des nombres aléatoires entre 1 et 100. Filtrez et affichez les nombres qui sont supérieurs à 50."
            ]
        },
        {
            "cell_type": "markdown",
            "metadata": {
                "id": "exercice5",
                "language": "markdown"
            },
            "source": [
                "## Exercice 5 : Fonctions mathématiques\n",
                "\n",
                "Créez un tableau NumPy de 10 éléments. Calculez et affichez la moyenne, la médiane et l'écart type du tableau."
            ]
        }
    ],
    "metadata": {
        "kernelspec": {
            "display_name": "Python 3",
            "language": "python",
            "name": "python3"
        },
        "language_info": {
            "codemirror_mode": {
                "name": "ipython",
                "version": 3
            },
            "file_extension": ".py",
            "mimetype": "text/x-python",
            "name": "python",
            "nbconvert_exporter": "python",
            "pygments_lexer": "ipython3",
            "version": "3.13.1"
        }
    },
    "nbformat": 4,
    "nbformat_minor": 5
}
