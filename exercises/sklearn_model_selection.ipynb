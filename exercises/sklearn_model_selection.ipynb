{
 "cells": [
  {
   "cell_type": "code",
   "execution_count": null,
   "id": "84a7482f",
   "metadata": {},
   "outputs": [],
   "source": [
    "# 1) Créer un ensemble d'entraînement (Train set) et un ensemble de test (Test set). Entraîner le modèle puis l'évaluer.\n",
    "# 2) Avec GridSearch, trouver les meilleurs hyperparamètres : n_neighbors, metric et weights.\n",
    "# 3) Est-ce que collecter plus de données serait utile ?\n",
    "# 4) Partage tes résultats en commentaire !"
   ]
  }
 ],
 "metadata": {
  "language_info": {
   "name": "python"
  }
 },
 "nbformat": 4,
 "nbformat_minor": 5
}
