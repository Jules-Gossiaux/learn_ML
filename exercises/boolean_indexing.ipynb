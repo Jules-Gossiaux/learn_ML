{
 "cells": [
  {
   "cell_type": "code",
   "execution_count": 1,
   "id": "0c5e0160",
   "metadata": {},
   "outputs": [],
   "source": [
    "import numpy as np\n",
    "import pandas as pd"
   ]
  },
  {
   "cell_type": "markdown",
   "id": "0afd5c6f",
   "metadata": {},
   "source": [
    "Listes et tableau"
   ]
  },
  {
   "cell_type": "code",
   "execution_count": 12,
   "id": "8cef41b9",
   "metadata": {},
   "outputs": [
    {
     "name": "stdout",
     "output_type": "stream",
     "text": [
      "[12, 18, 21]\n",
      "[25 30]\n",
      "[15 20 25 30]\n"
     ]
    }
   ],
   "source": [
    "# Objectif : garder uniquement les nombres > 10\n",
    "numbers = [5, 12, 7, 18, 3, 21]\n",
    "\n",
    "# Ton code ici\n",
    "result = [i for i in numbers if i>10]\n",
    "print(result)\n",
    "\n",
    "arr = np.array([10, 15, 20, 25, 30])\n",
    "# Objectif : extraire les éléments > 20\n",
    "result2 = arr[arr>20]\n",
    "print(result2)\n",
    "\n",
    "print(arr[(arr>=15)&(arr<=30)])"
   ]
  },
  {
   "cell_type": "markdown",
   "id": "21b14929",
   "metadata": {},
   "source": [
    "Series pandas"
   ]
  },
  {
   "cell_type": "code",
   "execution_count": 15,
   "id": "208b4a1c",
   "metadata": {},
   "outputs": [
    {
     "name": "stdout",
     "output_type": "stream",
     "text": [
      "c    12\n",
      "e    20\n",
      "dtype: int64\n",
      "a    3\n",
      "b    8\n",
      "d    5\n",
      "f    7\n",
      "dtype: int64\n",
      "b     8\n",
      "c    12\n",
      "f     7\n",
      "dtype: int64\n"
     ]
    }
   ],
   "source": [
    "s = pd.Series([3, 8, 12, 5, 20, 7], index=['a', 'b', 'c', 'd', 'e', 'f'])\n",
    "\n",
    "print(s[s>10])\n",
    "print(s[s<=10])\n",
    "print(s[(s>5)&(s<15)])"
   ]
  },
  {
   "cell_type": "markdown",
   "id": "d75bcd8a",
   "metadata": {},
   "source": [
    "Dataframe pandas"
   ]
  },
  {
   "cell_type": "code",
   "execution_count": 36,
   "id": "7a74fd55",
   "metadata": {},
   "outputs": [
    {
     "data": {
      "text/html": [
       "<div>\n",
       "<style scoped>\n",
       "    .dataframe tbody tr th:only-of-type {\n",
       "        vertical-align: middle;\n",
       "    }\n",
       "\n",
       "    .dataframe tbody tr th {\n",
       "        vertical-align: top;\n",
       "    }\n",
       "\n",
       "    .dataframe thead th {\n",
       "        text-align: right;\n",
       "    }\n",
       "</style>\n",
       "<table border=\"1\" class=\"dataframe\">\n",
       "  <thead>\n",
       "    <tr style=\"text-align: right;\">\n",
       "      <th></th>\n",
       "      <th>name</th>\n",
       "      <th>age</th>\n",
       "      <th>city</th>\n",
       "    </tr>\n",
       "  </thead>\n",
       "  <tbody>\n",
       "    <tr>\n",
       "      <th>0</th>\n",
       "      <td>Alice</td>\n",
       "      <td>25</td>\n",
       "      <td>London</td>\n",
       "    </tr>\n",
       "    <tr>\n",
       "      <th>1</th>\n",
       "      <td>Bob</td>\n",
       "      <td>17</td>\n",
       "      <td>Paris</td>\n",
       "    </tr>\n",
       "    <tr>\n",
       "      <th>2</th>\n",
       "      <td>Charlie</td>\n",
       "      <td>35</td>\n",
       "      <td>Bruxelles</td>\n",
       "    </tr>\n",
       "  </tbody>\n",
       "</table>\n",
       "</div>"
      ],
      "text/plain": [
       "      name  age       city\n",
       "0    Alice   25     London\n",
       "1      Bob   17      Paris\n",
       "2  Charlie   35  Bruxelles"
      ]
     },
     "metadata": {},
     "output_type": "display_data"
    },
    {
     "data": {
      "text/html": [
       "<div>\n",
       "<style scoped>\n",
       "    .dataframe tbody tr th:only-of-type {\n",
       "        vertical-align: middle;\n",
       "    }\n",
       "\n",
       "    .dataframe tbody tr th {\n",
       "        vertical-align: top;\n",
       "    }\n",
       "\n",
       "    .dataframe thead th {\n",
       "        text-align: right;\n",
       "    }\n",
       "</style>\n",
       "<table border=\"1\" class=\"dataframe\">\n",
       "  <thead>\n",
       "    <tr style=\"text-align: right;\">\n",
       "      <th></th>\n",
       "      <th>name</th>\n",
       "      <th>age</th>\n",
       "      <th>city</th>\n",
       "    </tr>\n",
       "  </thead>\n",
       "  <tbody>\n",
       "    <tr>\n",
       "      <th>0</th>\n",
       "      <td>Alice</td>\n",
       "      <td>25</td>\n",
       "      <td>London</td>\n",
       "    </tr>\n",
       "    <tr>\n",
       "      <th>2</th>\n",
       "      <td>Charlie</td>\n",
       "      <td>35</td>\n",
       "      <td>Bruxelles</td>\n",
       "    </tr>\n",
       "  </tbody>\n",
       "</table>\n",
       "</div>"
      ],
      "text/plain": [
       "      name  age       city\n",
       "0    Alice   25     London\n",
       "2  Charlie   35  Bruxelles"
      ]
     },
     "metadata": {},
     "output_type": "display_data"
    }
   ],
   "source": [
    "df = pd.DataFrame({\n",
    "    'name': ['Alice', 'Bob', 'Charlie'],\n",
    "    'age': [25, 17, 35],\n",
    "    \"city\": [\"London\", \"Paris\", \"Bruxelles\"]\n",
    "})\n",
    "display(df)\n",
    "sub18 = df[df[\"age\"] > 18]\n",
    "paris = df[(df[\"age\"]>18)&(df[\"city\"] == \"Paris\")]\n",
    "cities = df[(df[\"city\"] == \"London\") | (df[\"city\"] == \"Bruxelles\")]\n",
    "display(cities)"
   ]
  }
 ],
 "metadata": {
  "kernelspec": {
   "display_name": "Python 3",
   "language": "python",
   "name": "python3"
  },
  "language_info": {
   "codemirror_mode": {
    "name": "ipython",
    "version": 3
   },
   "file_extension": ".py",
   "mimetype": "text/x-python",
   "name": "python",
   "nbconvert_exporter": "python",
   "pygments_lexer": "ipython3",
   "version": "3.13.1"
  }
 },
 "nbformat": 4,
 "nbformat_minor": 5
}
