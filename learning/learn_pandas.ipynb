{
 "cells": [
  {
   "cell_type": "code",
   "execution_count": 1,
   "id": "e9e76633",
   "metadata": {},
   "outputs": [],
   "source": [
    "import numpy as np\n",
    "import matplotlib.pyplot as plt\n",
    "import pandas as pd"
   ]
  },
  {
   "cell_type": "markdown",
   "id": "0f8d3339",
   "metadata": {},
   "source": [
    "## Analyse du Dataset du titanic"
   ]
  },
  {
   "cell_type": "code",
   "execution_count": null,
   "id": "c94efe83",
   "metadata": {},
   "outputs": [],
   "source": [
    "#Lire un fichier excel\n",
    "data = pd.read_excel('../Data/titanic3.xls')"
   ]
  },
  {
   "cell_type": "code",
   "execution_count": null,
   "id": "b6ab6d98",
   "metadata": {},
   "outputs": [],
   "source": [
    "#Vérifier dimensions du dataframe\n",
    "print(\"Dimensions du dataframe:\", data.shape)"
   ]
  },
  {
   "cell_type": "code",
   "execution_count": null,
   "id": "558d2bbd",
   "metadata": {},
   "outputs": [],
   "source": [
    "#Afficher le nom des colonnes\n",
    "print(\"Noms des colonnes:\", data.columns)"
   ]
  },
  {
   "cell_type": "code",
   "execution_count": null,
   "id": "5e2d3bcb",
   "metadata": {},
   "outputs": [],
   "source": [
    "#Afficher le début du dataframe\n",
    "data.head()"
   ]
  },
  {
   "cell_type": "code",
   "execution_count": null,
   "id": "546879b8",
   "metadata": {},
   "outputs": [],
   "source": [
    "#Eliminer des colonnes\n",
    "data = data.drop(columns=['name', 'sibsp', 'parch', 'ticket', 'fare', 'cabin', 'embarked', 'boat', 'body', 'home.dest'], axis=1)\n",
    "data.head()"
   ]
  },
  {
   "cell_type": "code",
   "execution_count": null,
   "id": "9aad5c1c",
   "metadata": {},
   "outputs": [],
   "source": [
    "#Statistiques rapides\n",
    "data.describe()"
   ]
  },
  {
   "cell_type": "markdown",
   "id": "cc8f1c16",
   "metadata": {},
   "source": [
    "Attention !  Corrompt les donées"
   ]
  },
  {
   "cell_type": "code",
   "execution_count": null,
   "id": "514c99b6",
   "metadata": {},
   "outputs": [],
   "source": [
    "#Compléter les données manquantes par une valeur par défaut\n",
    "data['age'] = data['age'].fillna(data['age'].mean())"
   ]
  },
  {
   "cell_type": "code",
   "execution_count": null,
   "id": "fc5d0c27",
   "metadata": {},
   "outputs": [],
   "source": [
    "#Eliminer les lignes avec des valeurs manquantes\n",
    "data = data.dropna(axis=0)\n",
    "data.describe()\n"
   ]
  },
  {
   "cell_type": "code",
   "execution_count": null,
   "id": "184b208f",
   "metadata": {},
   "outputs": [],
   "source": [
    "#Compter les répétitions\n",
    "data['pclass'].value_counts()\n",
    "data['age'].hist()"
   ]
  },
  {
   "cell_type": "code",
   "execution_count": null,
   "id": "01db2bcb",
   "metadata": {},
   "outputs": [],
   "source": [
    "#Analyse par groupe (par leur sexe et par leur classe)\n",
    "data.groupby(['sex', 'pclass']).mean()"
   ]
  },
  {
   "cell_type": "markdown",
   "id": "a1d9fdd4",
   "metadata": {},
   "source": [
    "## Dataframe et Séries"
   ]
  },
  {
   "cell_type": "markdown",
   "id": "21802acc",
   "metadata": {},
   "source": [
    "Un dataframe est formé de séries\n",
    "Une série est une colonne, elle a un index(indépendant de numpy) et les données\n"
   ]
  },
  {
   "cell_type": "markdown",
   "id": "665e03ca",
   "metadata": {},
   "source": [
    "Rappel: \n",
    "\n",
    "dict[\"key\"] = value\n",
    "\n",
    "DF[\"colulmn] = une série"
   ]
  },
  {
   "cell_type": "markdown",
   "id": "7e00ca70",
   "metadata": {},
   "source": [
    "exercice"
   ]
  },
  {
   "cell_type": "code",
   "execution_count": 30,
   "id": "fab448bb",
   "metadata": {},
   "outputs": [
    {
     "data": {
      "text/plain": [
       "0       29.0000\n",
       "1        0.9167\n",
       "2        2.0000\n",
       "3       30.0000\n",
       "4       25.0000\n",
       "         ...   \n",
       "1301    45.5000\n",
       "1304    14.5000\n",
       "1306    26.5000\n",
       "1307    27.0000\n",
       "1308    29.0000\n",
       "Name: age, Length: 1046, dtype: float64"
      ]
     },
     "metadata": {},
     "output_type": "display_data"
    },
    {
     "data": {
      "text/plain": [
       "0       2\n",
       "1       1\n",
       "2       1\n",
       "3       3\n",
       "4       2\n",
       "       ..\n",
       "1301    4\n",
       "1304    1\n",
       "1306    2\n",
       "1307    2\n",
       "1308    2\n",
       "Name: age, Length: 1046, dtype: int64"
      ]
     },
     "metadata": {},
     "output_type": "display_data"
    },
    {
     "name": "stdout",
     "output_type": "stream",
     "text": [
      "age\n",
      "2    344\n",
      "4    245\n",
      "3    232\n",
      "1    225\n",
      "Name: count, dtype: int64\n"
     ]
    }
   ],
   "source": [
    "data = pd.read_excel(\"../data/titanic3.xls\")\n",
    "data = data.drop(columns=['sibsp', 'parch', 'ticket', 'fare', 'cabin', 'embarked', 'boat', 'body', 'home.dest'], axis=1)\n",
    "data = data.dropna(axis=0)\n",
    "\n",
    "display(data[\"age\"])\n",
    "#Transforme les floats en integers\n",
    "data[\"age\"] = data[\"age\"].astype(int)\n",
    "\n",
    "data[data[\"age\"]<20] = 1\n",
    "data[(data[\"age\"]>=20)&(data[\"age\"]<30)] = 2\n",
    "data[(data[\"age\"]>=30)&(data[\"age\"]<40)] = 3\n",
    "data[data[\"age\"]>=40] = 4\n",
    "\n",
    "display(data[\"age\"])\n",
    "print(data[\"age\"].value_counts())\n"
   ]
  },
  {
   "cell_type": "markdown",
   "id": "b7148e60",
   "metadata": {},
   "source": [
    "Bictoin et Time series"
   ]
  },
  {
   "cell_type": "code",
   "execution_count": 2,
   "id": "688b6793",
   "metadata": {},
   "outputs": [
    {
     "data": {
      "image/png": "[encoded data removed]",
      "text/plain": [
       "<Figure size 900x600 with 1 Axes>"
      ]
     },
     "metadata": {},
     "output_type": "display_data"
    }
   ],
   "source": [
    "bitcoin = pd.read_csv(\"../data/BTC-EUR.csv\")\n",
    "#Affiche le graphique de l'évolution des closes\n",
    "bitcoin['Close'].plot(figsize=(9, 6))\n",
    "plt.show()"
   ]
  },
  {
   "cell_type": "code",
   "execution_count": null,
   "id": "3a2152d3",
   "metadata": {},
   "outputs": [],
   "source": [
    "#Définir le date time index(avoir un index de type datetime)\n",
    "#index_col='Date' permet de définir la colonne 'Date' comme index\n",
    "#parse_dates=True permet de convertir la colonne 'Date' en datetime\n",
    "#Définis la colonne 'Date' comme index\n",
    "bitcoin = pd.read_csv(\"../data/BTC-EUR.csv\", index_col='Date', parse_dates=True)\n",
    "bitcoin[\"Close\"].plot(figsize=(9, 6))\n",
    "#Cela montre bien que l'index est de type datetime\n",
    "print(bitcoin.index)\n",
    "plt.show()\n"
   ]
  },
  {
   "cell_type": "markdown",
   "id": "4bf8ad2b",
   "metadata": {},
   "source": [
    "On peut faire de l'indexing et du slicing sur des dates."
   ]
  },
  {
   "cell_type": "code",
   "execution_count": null,
   "id": "7c03db04",
   "metadata": {},
   "outputs": [],
   "source": [
    "bitcoin.head()\n",
    "#Indexing du dataframe avec l'index datetime\n",
    "bitcoin.loc[\"2019\"][\"Close\"].plot(figsize=(9, 6))\n",
    "#Sélection du mois de septembtre 2019\n",
    "bitcoin.loc[\"2019-09\"][\"Close\"].plot(figsize=(9, 6), color=\"red\")#La même chose que bitcoin[\"2019\", \"Close\"].plot(figsize=(9, 6))\n",
    "plt.show()\n",
    "#Slicing du dataframe avec l'index datetime\n",
    "bitcoin.loc[\"2017\":\"2019\"][\"Close\"].plot(figsize=(9, 6))\n",
    "plt.show()"
   ]
  },
  {
   "cell_type": "markdown",
   "id": "cc7ee94c",
   "metadata": {},
   "source": [
    "#### Functions"
   ]
  },
  {
   "cell_type": "code",
   "execution_count": null,
   "id": "e2bdb77b",
   "metadata": {},
   "outputs": [],
   "source": [
    "#Resample permet de regrouper les données par période\n",
    "print(bitcoin.index)\n",
    "#Calcule la moyenne des closes par mois pour l'année 2019\n",
    "bitcoin.loc[\"2019\"][\"Close\"].resample(\"M\").mean().plot()\n",
    "bitcoin.loc[\"2019\"][\"Close\"].resample(\"2W\").mean().plot(color=\"red\")"
   ]
  },
  {
   "cell_type": "code",
   "execution_count": null,
   "id": "785fc1e0",
   "metadata": {},
   "outputs": [],
   "source": [
    "#La fonction Aggregate(agg) permet de regrouper des statistiques par période en l'utilisant par dessus resample\n",
    "stats = bitcoin.loc[\"2019\"][\"Close\"].resample(\"W\").agg([\"mean\", \"std\", \"min\", \"max\"])\n",
    "stats.plot(title=\"Weekly Statistics of Bitcoin Close Prices in 2019\")\n"
   ]
  },
  {
   "cell_type": "markdown",
   "id": "ab36c15a",
   "metadata": {},
   "source": [
    "#### Calcul d'une mooving average"
   ]
  },
  {
   "cell_type": "code",
   "execution_count": null,
   "id": "2f4a02e7",
   "metadata": {},
   "outputs": [],
   "source": [
    "bitcoin.loc[\"2019\"][\"Close\"].plot(figsize=(9, 6), label=\"Price\")\n",
    "#rolling permet de calculer une statistique sur une fenêtre de période glissante\n",
    "bitcoin.loc[\"2019\"][\"Close\"].rolling(window=7).mean().plot(color=\"red\", label=\"7-Day Rolling Mean\")\n",
    "plt.legend()"
   ]
  },
  {
   "cell_type": "markdown",
   "id": "a3e68aac",
   "metadata": {},
   "source": [
    "Calcul d'une moyenne mobile exponentielle"
   ]
  },
  {
   "cell_type": "code",
   "execution_count": null,
   "id": "7b4ae439",
   "metadata": {},
   "outputs": [],
   "source": [
    "#ewm permet de calculer la moyenne mobile exponentielle\n",
    "bitcoin.loc['2019']['Close'].ewm(alpha=0.2).mean().plot(color=\"red\", label=\"14-Day Exponential Mean\")\n",
    "bitcoin.loc[\"2019\"][\"Close\"].plot(label=\"Price\")\n",
    "plt.legend()"
   ]
  },
  {
   "cell_type": "markdown",
   "id": "9de8b263",
   "metadata": {},
   "source": [
    "#### Assembler des datasets"
   ]
  },
  {
   "cell_type": "code",
   "execution_count": null,
   "id": "2a1aa18e",
   "metadata": {},
   "outputs": [],
   "source": [
    "bitcoin = pd.read_csv(\"../data/BTC-EUR.csv\", index_col=\"Date\", parse_dates=True)\n",
    "ethereum = pd.read_csv(\"../data/ETH-EUR.csv\", index_col = \"Date\", parse_dates=True)"
   ]
  },
  {
   "cell_type": "code",
   "execution_count": null,
   "id": "9ea7dbf0",
   "metadata": {},
   "outputs": [],
   "source": [
    "#Assemble les deux dataframes en se basant sur la colonne 'Date', et en utilisant inner et les suffixes pour différencier les deux cryptos\n",
    "btc_eth = pd.merge(bitcoin, ethereum, on=\"Date\", how=\"inner\", suffixes=(\"_BTC\", \"_ETH\"))#inner assemble uniquement les lignes qui ont la même date dans les deux dataframes\n",
    "pd.merge(bitcoin, ethereum, on=\"Date\", how=\"outer\", suffixes=(\"_BTC\", \"_ETH\"))#outer assemble toutes les lignes des deux dataframes, même si elles n'ont pas la même date\n",
    "#On met deux crochets car un seul sélectionne une série alors que deux permet de sélectionner plusieurs séries et retourne un dataframe\n",
    "btc_eth[[\"Close_BTC\", \"Close_ETH\"]].plot(subplots=True)\n",
    "btc_eth[[\"Close_BTC\", \"Close_ETH\"]].corr()"
   ]
  },
  {
   "cell_type": "markdown",
   "id": "28a0be26",
   "metadata": {},
   "source": [
    "La fonction map\n",
    "permet d'appliquer une fonction sur les valeurs d'une colonne\n",
    "\n",
    "La fonction apply permet de faire de même mais sur tout le dataframe."
   ]
  },
  {
   "cell_type": "code",
   "execution_count": 43,
   "id": "b4a59b30",
   "metadata": {},
   "outputs": [
    {
     "data": {
      "text/plain": [
       "0       0\n",
       "1       1\n",
       "2       0\n",
       "3       1\n",
       "4       0\n",
       "       ..\n",
       "1301    1\n",
       "1304    0\n",
       "1306    1\n",
       "1307    1\n",
       "1308    1\n",
       "Length: 1046, dtype: int8"
      ]
     },
     "execution_count": 43,
     "metadata": {},
     "output_type": "execute_result"
    }
   ],
   "source": [
    "data = pd.read_excel(\"../data/titanic3.xls\")\n",
    "data = data.drop(columns=['sibsp', 'parch', 'ticket', 'fare', 'cabin', 'embarked', 'boat', 'body', 'home.dest'], axis=1)\n",
    "data = data.dropna(axis=0)\n",
    "\n",
    "def category_ages (age):\n",
    "    if age <= 20:\n",
    "        return '<20 ans'\n",
    "    elif (age >20) & (age <= 30):\n",
    "        return '20-30 ans'\n",
    "    elif (age > 30) & (age <= 40):\n",
    "        return '30-40 ans'\n",
    "    else:\n",
    "        return '+40 ans'\n",
    "data[\"age\"].map(category_ages)\n",
    "#Transformer une donnée de type string en integer\n",
    "data[\"sex\"].map({\"male\": 1, \"female\": 0})\n",
    "#Deuxième méthode(je remplace les nombres par les mots)([éléments à remplacer], [éléments de remplacement])\n",
    "data[\"sex\"].replace([1, 0], [\"male\", \"female\"])\n",
    "#Troisième méthode\n",
    "# Convertir les codes de catégorie en valeurs numériques\n",
    "data['sex'].astype('category').cat.codes"
   ]
  },
  {
   "cell_type": "markdown",
   "id": "111a983d",
   "metadata": {},
   "source": []
  }
 ],
 "metadata": {
  "kernelspec": {
   "display_name": "Python 3",
   "language": "python",
   "name": "python3"
  },
  "language_info": {
   "codemirror_mode": {
    "name": "ipython",
    "version": 3
   },
   "file_extension": ".py",
   "mimetype": "text/x-python",
   "name": "python",
   "nbconvert_exporter": "python",
   "pygments_lexer": "ipython3",
   "version": "3.12.3"
  }
 },
 "nbformat": 4,
 "nbformat_minor": 5
}
