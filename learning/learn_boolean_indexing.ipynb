{
 "cells": [
  {
   "cell_type": "code",
   "execution_count": 2,
   "id": "fb3c368a",
   "metadata": {},
   "outputs": [],
   "source": [
    "import numpy as np\n",
    "import pandas as pd\n",
    "from pandas import Series, DataFrame"
   ]
  },
  {
   "cell_type": "code",
   "execution_count": 37,
   "id": "382fb99f",
   "metadata": {},
   "outputs": [
    {
     "data": {
      "text/plain": [
       "array([[3, 4, 6, 1, 2],\n",
       "       [3, 0, 2, 0, 4],\n",
       "       [7, 1, 9, 7, 6],\n",
       "       [2, 5, 5, 3, 6],\n",
       "       [7, 6, 2, 0, 7]], dtype=int32)"
      ]
     },
     "execution_count": 37,
     "metadata": {},
     "output_type": "execute_result"
    }
   ],
   "source": [
    "A = np.random.randint(0, 10, [5, 5])\n",
    "A"
   ]
  },
  {
   "cell_type": "code",
   "execution_count": 38,
   "id": "24a07d9d",
   "metadata": {},
   "outputs": [
    {
     "name": "stdout",
     "output_type": "stream",
     "text": [
      "[3 4 1 2 3 0 2 0 4 1 2 3 2 0]\n"
     ]
    },
    {
     "data": {
      "text/plain": [
       "array([[3, 4, 6, 1, 2],\n",
       "       [3, 0, 2, 0, 4],\n",
       "       [7, 1, 9, 7, 6],\n",
       "       [2, 5, 5, 3, 6],\n",
       "       [7, 6, 2, 0, 7]], dtype=int32)"
      ]
     },
     "metadata": {},
     "output_type": "display_data"
    }
   ],
   "source": [
    "# Sélectionner tous les nombres qui valent 10\n",
    "test = A[A<5]\n",
    "print(test)\n",
    "display(A)"
   ]
  },
  {
   "cell_type": "code",
   "execution_count": null,
   "id": "308356e3",
   "metadata": {},
   "outputs": [
    {
     "name": "stdout",
     "output_type": "stream",
     "text": [
      "[3 4 2 3 2 4 2 3 2]\n"
     ]
    },
    {
     "data": {
      "text/plain": [
       "array([[3, 4, 6, 1, 2],\n",
       "       [3, 0, 2, 0, 4],\n",
       "       [7, 1, 9, 7, 6],\n",
       "       [2, 5, 5, 3, 6],\n",
       "       [7, 6, 2, 0, 7]], dtype=int32)"
      ]
     },
     "metadata": {},
     "output_type": "display_data"
    },
    {
     "data": {
      "text/plain": [
       "array([[3, 4, 6, 1, 2],\n",
       "       [3, 0, 2, 0, 4],\n",
       "       [7, 1, 9, 7, 6],\n",
       "       [2, 5, 5, 3, 6],\n",
       "       [7, 6, 2, 0, 7]], dtype=int32)"
      ]
     },
     "metadata": {},
     "output_type": "display_data"
    }
   ],
   "source": [
    "#Tester plusieurs données\n",
    "test = A[(A<5) & (A>1)]\n",
    "print(test)\n",
    "display(A)\n"
   ]
  },
  {
   "cell_type": "code",
   "execution_count": 48,
   "id": "84d15b6b",
   "metadata": {},
   "outputs": [
    {
     "data": {
      "text/plain": [
       "array([[8, 8, 6, 2, 8],\n",
       "       [7, 2, 1, 5, 4],\n",
       "       [4, 5, 7, 3, 6],\n",
       "       [4, 3, 7, 6, 1],\n",
       "       [3, 5, 8, 4, 6]], dtype=int32)"
      ]
     },
     "metadata": {},
     "output_type": "display_data"
    },
    {
     "data": {
      "text/plain": [
       "array([[-0.63399257, -0.35040973, -0.024108  , -1.34371499, -1.45546732],\n",
       "       [ 0.34410891,  0.42486954,  1.47007746, -0.42901615, -1.07530851],\n",
       "       [ 2.10708683, -0.42788042,  0.61442763,  1.10438155,  0.0319746 ],\n",
       "       [ 1.18246826, -1.12076831, -0.85800742, -0.52715869,  1.11385518],\n",
       "       [-1.75408685, -0.24978025,  0.54959138,  0.52170749, -1.52343212]])"
      ]
     },
     "metadata": {},
     "output_type": "display_data"
    },
    {
     "data": {
      "text/plain": [
       "array([-0.63399257, -0.35040973, -0.024108  , -1.45546732,  0.34410891,\n",
       "        0.61442763,  0.0319746 , -0.85800742, -0.52715869,  0.54959138,\n",
       "       -1.52343212])"
      ]
     },
     "execution_count": 48,
     "metadata": {},
     "output_type": "execute_result"
    }
   ],
   "source": [
    "np.random.seed(2)\n",
    "A = np.random.randint(0, 10, [5, 5])\n",
    "B = np.random.randn(5, 5)\n",
    "display(A, B)\n",
    "#On injecte les données de B mais on utilise le masque de A\n",
    "B[A>5]"
   ]
  },
  {
   "cell_type": "code",
   "execution_count": 7,
   "id": "6fa1ed82",
   "metadata": {},
   "outputs": [
    {
     "data": {
      "text/plain": [
       "array([[1, 0, 1, 1, 1],\n",
       "       [1, 1, 1, 0, 1],\n",
       "       [1, 1, 1, 1, 0],\n",
       "       [0, 0, 1, 1, 0],\n",
       "       [0, 0, 0, 0, 0]], dtype=int32)"
      ]
     },
     "execution_count": 7,
     "metadata": {},
     "output_type": "execute_result"
    }
   ],
   "source": [
    "test = 0\n",
    "A = np.random.randint(0, 2, (5, 5))"
   ]
  }
 ],
 "metadata": {
  "kernelspec": {
   "display_name": "Python 3",
   "language": "python",
   "name": "python3"
  },
  "language_info": {
   "codemirror_mode": {
    "name": "ipython",
    "version": 3
   },
   "file_extension": ".py",
   "mimetype": "text/x-python",
   "name": "python",
   "nbconvert_exporter": "python",
   "pygments_lexer": "ipython3",
   "version": "3.13.1"
  }
 },
 "nbformat": 4,
 "nbformat_minor": 5
}
