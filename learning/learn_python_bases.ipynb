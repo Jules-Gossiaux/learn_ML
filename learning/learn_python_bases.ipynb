{
 "cells": [
  {
   "cell_type": "markdown",
   "id": "729c4a3b-782e-483f-8c3d-5ef1869ffa80",
   "metadata": {},
   "source": [
    "Revue des listes, boucles, return et un peu de logique de remise en route"
   ]
  },
  {
   "cell_type": "code",
   "execution_count": 123,
   "id": "0b2cf9b1-9252-4e6f-abab-173883001eea",
   "metadata": {},
   "outputs": [
    {
     "name": "stdout",
     "output_type": "stream",
     "text": [
      "[1, 1, 2, 3, 5, 8, 13, 21, 34, 55, 89, 144, 233, 377, 610, 987, 1597]\n"
     ]
    }
   ],
   "source": [
    "def fibo(number):\n",
    "    first_number = 1\n",
    "    second_number = 1\n",
    "    third_number = 3\n",
    "    first_list = [first_number, second_number]\n",
    "    while third_number<number:\n",
    "        third_number = first_number + second_number\n",
    "        first_list.append(third_number)\n",
    "        first_number = second_number\n",
    "        second_number = third_number\n",
    "    return first_list\n",
    "\n",
    "print(fibo(1053))"
   ]
  },
  {
   "cell_type": "markdown",
   "id": "a05eec4b-b484-416c-984d-f8a0593cd9ae",
   "metadata": {},
   "source": [
    "Apprentissage des dictionnaires(avec le parcours de celui ci dans une boucle for); A noter qu'il est également possible de le faire avec une liste"
   ]
  },
  {
   "cell_type": "code",
   "execution_count": 14,
   "id": "19d4f237-e4f9-400e-baf4-a4dfedb0dfff",
   "metadata": {},
   "outputs": [
    {
     "name": "stdout",
     "output_type": "stream",
     "text": [
      "{1: 'cerises', 10: 'pommes', 3: 'poires', 9: 'fraises'}\n",
      "{1: 'cerises', 10: 'pommes', 3: 'poires', 9: 'fraises'}\n"
     ]
    }
   ],
   "source": [
    "\n",
    "#Prendre les valeurs d'un dictionnaire dans l'ordre et les échanger dans le sens inverse\n",
    "\n",
    "dict_1 = {\"cerises\": 1,\n",
    "          \"pommes\": 10,\n",
    "          \"poires\": 3,\n",
    "          \"fraises\": 9\n",
    "}\n",
    "#Voici la solution sans dict comprehension\n",
    "dict_2 = {}\n",
    "list_k = []\n",
    "list_v = []\n",
    "for k, v in dict_1.items():\n",
    "    dict_2[v] = k\n",
    "    \n",
    "print(dict_2)\n",
    "\n",
    "#Voici la solution avec le processus de dict comprehension\n",
    "dict_3 = {v: k for k, v in dict_1.items()}\n",
    "print(dict_3)"
   ]
  },
  {
   "cell_type": "markdown",
   "id": "fb83fedc-a0e3-470b-99fb-0ee122de4337",
   "metadata": {},
   "source": [
    "Exercice de remise en route avec les conditions"
   ]
  },
  {
   "cell_type": "code",
   "execution_count": 125,
   "id": "5a5fbfa6-b64b-4051-bae9-890a2a305dc3",
   "metadata": {},
   "outputs": [
    {
     "name": "stdout",
     "output_type": "stream",
     "text": [
      "[1, 25, 0] [-13, -1]\n"
     ]
    }
   ],
   "source": [
    "classeur = {\n",
    "    \"negatifs\": [],\n",
    "    \"positifs\": []\n",
    "}\n",
    "list_test = [1, -13, 25, -1, 0]\n",
    "def trier(p_list):\n",
    "    for number in p_list:\n",
    "        if number>=0:\n",
    "            classeur[\"positifs\"].append(number)\n",
    "        elif number<0:\n",
    "            classeur[\"negatifs\"].append(number)\n",
    "            \n",
    "trier(list_test)\n",
    "print(classeur[\"positifs\"], classeur[\"negatifs\"])\n",
    "#print(f\"Voici les nombres positifs: {classeur[\"positifs\"]}\\n Et voici les nombres négatifs: {classeur[\"negatifs\"]}\")"
   ]
  },
  {
   "cell_type": "markdown",
   "id": "f06895bb-621f-42cd-954f-7d7396b994a9",
   "metadata": {},
   "source": [
    "Exercices de drill de list comprehension"
   ]
  },
  {
   "cell_type": "code",
   "execution_count": 66,
   "id": "ead93a8e-679d-4a75-8845-502e276d3611",
   "metadata": {},
   "outputs": [
    {
     "name": "stdout",
     "output_type": "stream",
     "text": [
      "[1, 4, 9, 16, 25, 36, 49, 64, 81]\n",
      "[0, 2, 4, 6, 8, 10, 12, 14, 16, 18]\n",
      "[4, 7, 6]\n",
      "['poisson', 'souris']\n",
      "['b', '*', 'n', 'j', '*', '*', 'r']\n",
      "[1, 4, 27, 16]\n",
      "[1, 2, 3, 4, 5]\n",
      "[[1, 'a'], [1, 'b'], [2, 'a'], [2, 'b']]\n",
      "{0: 0, 1: 1, 2: 4, 3: 9, 4: 16}\n",
      "{1: 'a', 2: 'b'}\n"
     ]
    }
   ],
   "source": [
    "### Affiche tous les carés des nombres de 0 à 9\n",
    "list_1 = [(i+1)**2 for i in range(9)]\n",
    "print(list_1)\n",
    "\n",
    "#Affiche tous les nombres pairs entre 0 et 20\n",
    "list_2 = [i*2 for i in range(10)]\n",
    "print(list_2)\n",
    "\n",
    "#Transforme une liste de mots en une liste de leur longueur\n",
    "list_3 =  [\"chat\", \"voiture\", \"maison\"]\n",
    "length = [len(mot) for mot in list_3]\n",
    "print(length)\n",
    "#It's like doing :\n",
    "#for mot in list_3:\n",
    "#   longueur.append(len(mot))\n",
    "\n",
    "#Garder les mots de plus de 5 lettres\n",
    "list_4 = [\"chat\", \"poisson\", \"souris\", \"chien\"]\n",
    "#Première utilisation d'un if dans un list comprehension\n",
    "list_final_words = [mot for mot in list_4 if len(mot)>5 ]\n",
    "print(list_final_words)\n",
    "\n",
    "#Remplace les voyelles par \"*\" dans un mot.\n",
    "word = \"bonjour\"\n",
    "voyelles = [\"a\", \"e\", \"i\", \"o\", \"u\", \"y\"]\n",
    "#Utilise un if et un else(mettre le for à la fin!!!)\n",
    "list_5 = [i  if i not in voyelles else \"*\" for i in word]\n",
    "print(list_5)\n",
    "\n",
    "#Transforme les nombres d’une liste : carré s’ils sont pairs, cube s’ils sont impairs.\n",
    "list_6 = [1, 2, 3, 4]\n",
    "#code pour savoir si un nombre est pair: if x % 2 == 0:\n",
    "list_6 = [i**2 if i%2==0 else i**3 for i in list_6]\n",
    "print(list_6)\n",
    "\n",
    "# Aplatis une liste de liste\n",
    "first_list = [[1, 2], [3, 4], [5]]\n",
    "#Voici la boucle des for normales:\n",
    "#for sublist in first_list:\n",
    "#   for value in sublist\n",
    "list_7 = [value for sublist in first_list for value in sublist]\n",
    "print(list_7)\n",
    "\n",
    "#Crée une liste de toutes les combinaisons possibles de deux listes.\n",
    "a = [1, 2]\n",
    "b = ['a', 'b']\n",
    "list_8 = [[num, letter] for num in a for letter in b]\n",
    "print(list_8)\n",
    "#liste = [[]]\n",
    "#for num in a:\n",
    "#    for letter in b:\n",
    "#        liste = [[num, letter]]\n",
    "\n",
    "#Créer un dictionnaire de carrés de 0 à 5.\n",
    "dico_1 = {i: i**2 for i in range (5)}\n",
    "#Structure du type: {clé: valeur for élément in iterable}\n",
    "print(dico_1)\n",
    "\n",
    "#Inverse les clés et valeurs d’un dictionnaire :\n",
    "dico_2 = {\"a\": 1, \"b\": 2}\n",
    "new_dico = {}\n",
    "for k, v in dico_2.items():\n",
    "    k, v = v, k\n",
    "    new_dico[k] = v\n",
    "print(new_dico)\n"
   ]
  },
  {
   "cell_type": "markdown",
   "id": "e8f4c197-2d8b-487d-a282-6e06ae06d971",
   "metadata": {},
   "source": [
    "AIDE: écrire les for normalement et ensuite le réécrire dans l'ordre en mettant ce que l'on veut dans la liste comme première valeur:\n",
    "for sublist in first_list:\n",
    "    for value in sublist\n",
    "list_7 = [value for sublist in first_list for value in sublist]"
   ]
  },
  {
   "cell_type": "markdown",
   "id": "399c7436-56da-4bba-b6c4-17b15ae68d9f",
   "metadata": {},
   "source": [
    "Exercices de drill de dict comprehension"
   ]
  },
  {
   "cell_type": "code",
   "execution_count": 67,
   "id": "940dfbef-4fc0-4393-a721-18dfea2cea01",
   "metadata": {},
   "outputs": [
    {
     "name": "stdout",
     "output_type": "stream",
     "text": [
      "{0: 0, 1: 1, 2: 4, 3: 9, 4: 16}\n",
      "{1: 'a', 2: 'b'}\n",
      "{'a': 1, 'c': 3, 'e': 5}\n",
      "{'chat': 4, 'chose': 5, 'voiture': 7}\n",
      "{'pomme': 2, 'banane': 1, 'kiwi': 1}\n",
      "{'a': 2, 'c': 4}\n",
      "[0, 1, 4, 9, 16, 25, 36, 49, 64, 81] {0: 0, 1: 1, 2: 4, 3: 9, 4: 16, 5: 25, 6: 36, 7: 49, 8: 64, 9: 81}\n",
      "{0: 0, 1: 1, 2: 4, 3: 9, 4: 16, 5: 25, 6: 36, 7: 49, 8: 64, 9: 81, 10: 100, 11: 121, 12: 144, 13: 169, 14: 196, 15: 225, 16: 256, 17: 289, 18: 324, 19: 361}\n"
     ]
    }
   ],
   "source": [
    "#Créer un dictionnaire de carrés de 0 à 5.\n",
    "dico_1 = {i: i**2 for i in range (5)}\n",
    "#Structure du type: {clé: valeur for élément in iterable}\n",
    "print(dico_1)\n",
    "\n",
    "#Inverse les clés et valeurs d’un dictionnaire :\n",
    "dico_2 = {\"a\": 1, \"b\": 2}\n",
    "new_dico = {v: k for k, v in dico_2.items()}\n",
    "print(new_dico)\n",
    "#for k, v in dico_2.items():\n",
    "    #new_dico[v] = k\n",
    "#print(new_dico)\n",
    "\n",
    "#Garder seulement les paires dont la valeur est impaire.\n",
    "dico_3 = {\"a\": 1, \"b\": 2, \"c\": 3, \"d\": 4, \"e\": 5}\n",
    "#code pour détecter si un nombre est impair : if x % 2 != 0:\n",
    "dico_3 = {k: v for k, v in dico_3.items() if v % 2 != 0}\n",
    "print(dico_3)\n",
    "\n",
    "#Créer un dictionnaire de mots avec leur longueur si la longueur est > 3 :\n",
    "words_list = [\"chat\", \"chose\", \"a\", \"voiture\"]\n",
    "dico_4 = {mot: len(words_list[i]) for i, mot in enumerate(words_list) if len(mot)>3}\n",
    "print(dico_4)\n",
    "\n",
    "#Compte combien de fois chaque mot apparaît dans une liste:\n",
    "words_list_2 = [\"pomme\", \"banane\", \"pomme\", \"kiwi\"]\n",
    "dico_5 = {k: words_list_2.count(k) for k in words_list_2}\n",
    "print(dico_5)\n",
    "\n",
    "#Combine deux listes en dictionnaire, mais seulement si la valeur est un nombre pair:\n",
    "keys = [\"a\", \"b\", \"c\"]\n",
    "values = [2, 3, 4]\n",
    "dico_6 = {k: v for k, v in zip(keys, values) if v % 2 == 0}\n",
    "print(dico_6)\n",
    "\n",
    "#Créer une liste et ensuite un dictionnaire de carrés\n",
    "squares_list = [i**2 for i in range(10)]\n",
    "squares_dico = {number: number**2 for number in range(10)}\n",
    "print(squares_list, squares_dico)\n",
    "#Créer un dictionnaire avec des clés de 0 à 20 et comme valeurs le carré de la clé\n",
    "dico_exercise = {k: k**2 for k in range(20)}\n",
    "print(dico_exercise)"
   ]
  },
  {
   "cell_type": "markdown",
   "id": "74162808-f741-484f-89cb-016ab51a0add",
   "metadata": {},
   "source": [
    "## Built in functions"
   ]
  },
  {
   "cell_type": "code",
   "execution_count": 148,
   "id": "aae5b801-61a2-437d-b60c-10417500d664",
   "metadata": {},
   "outputs": [
    {
     "name": "stdout",
     "output_type": "stream",
     "text": [
      "il fait 20 degrés celcius à Bruxelles\n",
      "il fait 20 degrés à Bruxelles\n",
      "Bonjour 10\n"
     ]
    }
   ],
   "source": [
    "#abs => retourne la valeur absolue du parametre\n",
    "a = -3\n",
    "abs(x)\n",
    "#Arrondi le paramètre\n",
    "b = 3.14\n",
    "round(b)\n",
    "#Retourne l'élément max d'une liste\n",
    "list_1 = [1, 2, 3]\n",
    "max(list_1)\n",
    "#Retourne l'élément min d'une liste\n",
    "min(list_1)\n",
    "#retoune la longueur de la liste\n",
    "len(list_1)\n",
    "#Somme de tous les éléments de la liste\n",
    "sum(list_1)\n",
    "#Retourne True si tous les éléments de la liste sont égaux à True\n",
    "all(list_1)\n",
    "#Retourne True si au moins un élément de la liste est égal à True\n",
    "list_2 = [1, True, False]\n",
    "any(list_2)\n",
    "#Retourne le type de la variable\n",
    "c = 10\n",
    "type(x)\n",
    "#Transforme un nombre en string\n",
    "str(c)\n",
    "#Transforme un nombre en string\n",
    "d = \"1\"\n",
    "int(d)\n",
    "#Transforme un nombre en float(nombre à virgule)\n",
    "float(c)\n",
    "#Transforme une liste en tuple\n",
    "tuple_1 = tuple(list_1)\n",
    "tuple_1\n",
    "#Transforme un tuple ou dictionnaire en liste\n",
    "list(tuple_1)\n",
    "dict_1 = {\"cerises\": 1,\n",
    "          \"pommes\": 10,\n",
    "          \"poires\": 3,\n",
    "          \"fraises\": 9\n",
    "}\n",
    "list(dict_1.keys())\n",
    "#Transforme un integer en nombre binaire\n",
    "bin(103)\n",
    "#Modeler une chaine de caractère avec des variables\n",
    "x = 20\n",
    "ville = \"Bruxelles\"\n",
    "print(\"il fait {} degrés celcius à {}\".format(x, ville))\n",
    "#La même chose\n",
    "print(f\"il fait {x} degrés à {ville}\")\n"
   ]
  },
  {
   "cell_type": "markdown",
   "id": "7cf8766e-05e4-4fdf-841f-1fa1f885c774",
   "metadata": {},
   "source": [
    "La fonction open pour créer, éditer, lire un fichier"
   ]
  },
  {
   "cell_type": "code",
   "execution_count": 187,
   "id": "0d34168b-f887-4127-af2b-aa3444fa9bda",
   "metadata": {},
   "outputs": [
    {
     "name": "stdout",
     "output_type": "stream",
     "text": [
      "0² = 0 \n",
      "1² = 1 \n",
      "2² = 4 \n",
      "3² = 9 \n",
      "4² = 16 \n",
      "5² = 25 \n",
      "6² = 36 \n",
      "7² = 49 \n",
      "8² = 64 \n",
      "9² = 81 \n",
      "\n"
     ]
    }
   ],
   "source": [
    "\n",
    "### Ouvre ou crée un fichier avec le nom fichier.txt pour le mettre dans la variable f(pour fichier) et \"w\" comme paramètre pour dire que l'on réécrit dessus\n",
    "f = open(\"fichier.txt\", \"w\")\n",
    "#réécriture du fichier\n",
    "f.write(\"Bonjour tout le monde\")\n",
    "f.write(\"Helloi world\")\n",
    "#Fermeture du fichier\n",
    "f.close()\n",
    "#Ouverture du fichier pour le lire\n",
    "f = open(\"fichier.txt\", \"r\")\n",
    "#Renvoie ce que contient le fichier f(lecture du fichier)\n",
    "f.read()\n",
    "f.close()\n",
    "#ouverture du fichier \n",
    "with open(\"fichier.txt\", \"w\") as f:\n",
    "    for i in range(10):\n",
    "        f.write(f\"{i}² = {i**2} \\n\")\n",
    "f = open(\"fichier.txt\", \"r\")\n",
    "print(f.read())\n",
    "f.close()"
   ]
  },
  {
   "cell_type": "markdown",
   "id": "7b936f17-b3d9-4eda-b27d-19dfac3d2870",
   "metadata": {},
   "source": [
    "Exercises for the open function"
   ]
  },
  {
   "cell_type": "code",
   "execution_count": 145,
   "id": "2bf3c5fd-8135-4cbb-af02-03dca6cdb369",
   "metadata": {},
   "outputs": [
    {
     "name": "stdout",
     "output_type": "stream",
     "text": [
      "0² = 0 \n",
      "1² = 1 \n",
      "2² = 4 \n",
      "3² = 9 \n",
      "4² = 16 \n",
      "5² = 25 \n",
      "6² = 36 \n",
      "7² = 49 \n",
      "8² = 64 \n",
      "9² = 81 \n",
      "\n",
      "['0² = 0 \\n', '1² = 1 \\n', '2² = 4 \\n', '3² = 9 \\n', '4² = 16 \\n', '5² = 25 \\n', '6² = 36 \\n', '7² = 49 \\n', '8² = 64 \\n', '9² = 81 \\n']\n"
     ]
    }
   ],
   "source": [
    "#Créer une liste dans laquelle on a chaque ligne du fichier\n",
    "squares_list = []\n",
    "with open(\"exercises.txt\", \"w\") as f:\n",
    "    for i in range(10):\n",
    "        string = f\"{i}² = {i**2} \\n\"\n",
    "        f.write(string)\n",
    "        squares_list.append(string)\n",
    "f = open(\"exercises.txt\", \"r\")\n",
    "print(f.read())\n",
    "f.close()\n",
    "print(squares_list)\n",
    "######Correction\n",
    "with open(\"exercises.txt\", \"r\") as f:\n",
    "    correction_list = f.readlines()\n",
    "###Pour enlever le \\n:\n",
    "with open(\"exercises.txt\", \"r\") as f:\n",
    "    correction_list = f.read().splitlines()\n"
   ]
  },
  {
   "cell_type": "markdown",
   "id": "2c59664d-57cd-4414-abf2-493321ec3488",
   "metadata": {},
   "source": [
    "# Les modules et packages"
   ]
  },
  {
   "cell_type": "markdown",
   "id": "9f5f06d5",
   "metadata": {},
   "source": [
    "### Importation"
   ]
  },
  {
   "cell_type": "code",
   "execution_count": 5,
   "id": "5b1ab8cf-12ae-4d4f-8e2b-d7fa670710b1",
   "metadata": {},
   "outputs": [
    {
     "data": {
      "text/plain": [
       "[1, 1, 2, 3, 5, 8, 13, 21, 34]"
      ]
     },
     "execution_count": 5,
     "metadata": {},
     "output_type": "execute_result"
    }
   ],
   "source": [
    "#importe le module(un fichier contenant des fonctions, classes, variables)learn_modules\n",
    "import learn_modules \n",
    "#Appelle la fonction fibonacci du module learn_modules\n",
    "learn_modules.fibonacci(30)"
   ]
  },
  {
   "cell_type": "code",
   "execution_count": 6,
   "id": "1d0761de",
   "metadata": {},
   "outputs": [
    {
     "data": {
      "text/plain": [
       "[1, 1, 2, 3, 5, 8, 13, 21, 34]"
      ]
     },
     "execution_count": 6,
     "metadata": {},
     "output_type": "execute_result"
    }
   ],
   "source": [
    "#importe le modules learn_modules et lui donne le nom \"lm\"\n",
    "import learn_modules as lm\n",
    "#Appelle la fonction fibonacci du module learn_modules\n",
    "lm.fibonacci(30)"
   ]
  },
  {
   "cell_type": "code",
   "execution_count": 8,
   "id": "f657825b",
   "metadata": {},
   "outputs": [
    {
     "data": {
      "text/plain": [
       "[1, 1, 2, 3, 5, 8, 13, 21, 34]"
      ]
     },
     "execution_count": 8,
     "metadata": {},
     "output_type": "execute_result"
    }
   ],
   "source": [
    "#Importe seulement la fonction fibonacci du module learn_modules\n",
    "from learn_modules import fibonacci\n",
    "#Appelle la fonction fibonacci du module learn_modules\n",
    "fibonacci(30)"
   ]
  },
  {
   "cell_type": "code",
   "execution_count": 2,
   "id": "7cbddae9",
   "metadata": {},
   "outputs": [
    {
     "name": "stdout",
     "output_type": "stream",
     "text": [
      "[1, 1, 2, 3, 5, 8, 13, 21, 34]\n",
      "[1, 2, 4, 8, 16, 32, 64, 128, 256, 512]\n"
     ]
    }
   ],
   "source": [
    "#Importe toutes les fonctions du module learn_modules\n",
    "from learn_modules import *\n",
    "#Appelle la fonction fibonacci du module learn_modules \n",
    "print(fibonacci(30))\n",
    "#Appelle la fonction expo du module learn_modules\n",
    "print(expo(1000))"
   ]
  },
  {
   "cell_type": "markdown",
   "id": "1158efba",
   "metadata": {},
   "source": [
    "### Différents modules"
   ]
  },
  {
   "cell_type": "code",
   "execution_count": 139,
   "id": "d4bf9859",
   "metadata": {},
   "outputs": [
    {
     "name": "stdout",
     "output_type": "stream",
     "text": [
      "0² = 0 \n",
      "1² = 1 \n",
      "2² = 4 \n",
      "3² = 9 \n",
      "4² = 16 \n",
      "5² = 25 \n",
      "6² = 36 \n",
      "7² = 49 \n",
      "8² = 64 \n",
      "9² = 81 \n",
      "\n",
      "0Â² = 0 \n",
      "1Â² = 1 \n",
      "2Â² = 4 \n",
      "3Â² = 9 \n",
      "4Â² = 16 \n",
      "5Â² = 25 \n",
      "6Â² = 36 \n",
      "7Â² = 49 \n",
      "8Â² = 64 \n",
      "9Â² = 81 \n",
      "\n"
     ]
    }
   ],
   "source": [
    "import math\n",
    "import random\n",
    "import statistics\n",
    "import os\n",
    "import glob\n",
    "\n",
    "# print(math.pi)\n",
    "# \n",
    "# print(statistics.mean(fibonacci(1000)))\n",
    "# print(statistics.median(fibonacci(1000)))\n",
    "# print(statistics.variance(fibonacci(1000)))\n",
    "# \n",
    "# #random.seed(1) permet d'avoir toujours \"le même aléatoire\"\n",
    "# print(random.choice(fibonacci(1000)))\n",
    "# print(random.random())\n",
    "# print(random.sample(range(100), random.randrange(10)))\n",
    "# my_list = fibonacci(1000)\n",
    "# random.shuffle(my_list)\n",
    "# print(my_list)\n",
    "\n",
    "os.getcwd()\n",
    "\n",
    "filenames = glob.glob(\"*.txt\")\n",
    "for file in filenames:\n",
    "    with open(file, \"r\") as f:\n",
    "        print(f.read())\n"
   ]
  },
  {
   "cell_type": "markdown",
   "id": "00de1d57",
   "metadata": {},
   "source": [
    "### Exercices avec les fichier"
   ]
  },
  {
   "cell_type": "code",
   "execution_count": 159,
   "id": "69fd6a92",
   "metadata": {},
   "outputs": [
    {
     "name": "stdout",
     "output_type": "stream",
     "text": [
      "{'exercises.txt': '0² = 0 \\n1² = 1 \\n2² = 4 \\n3² = 9 \\n4² = 16 \\n5² = 25 \\n6² = 36 \\n7² = 49 \\n8² = 64 \\n9² = 81 \\n', 'fichier.txt': '0Â² = 0 \\n1Â² = 1 \\n2Â² = 4 \\n3Â² = 9 \\n4Â² = 16 \\n5Â² = 25 \\n6Â² = 36 \\n7Â² = 49 \\n8Â² = 64 \\n9Â² = 81 \\n'}\n"
     ]
    }
   ],
   "source": [
    "#Créer une variable pour chaque fichier et y insérer le contenu du fichier\n",
    "\n",
    "file_dict = {}\n",
    "filenames = glob.glob(\"*.txt\")\n",
    "for file in filenames:\n",
    "    with open(file, \"r\") as f:\n",
    "        file_dict[file] = f.read()\n",
    "            \n",
    "print(file_dict)"
   ]
  },
  {
   "cell_type": "markdown",
   "id": "b053c991",
   "metadata": {},
   "source": [
    "### POO avec Numpy"
   ]
  },
  {
   "cell_type": "code",
   "execution_count": 157,
   "id": "86ba91d9",
   "metadata": {},
   "outputs": [
    {
     "data": {
      "text/plain": [
       "array([1, 2, 3])"
      ]
     },
     "execution_count": 157,
     "metadata": {},
     "output_type": "execute_result"
    }
   ],
   "source": [
    "import numpy as np\n",
    "table = np.array([1, 2, 3])\n",
    "table"
   ]
  },
  {
   "cell_type": "code",
   "execution_count": null,
   "id": "ac1f0882",
   "metadata": {},
   "outputs": [
    {
     "name": "stdout",
     "output_type": "stream",
     "text": [
      "Votre solde est de 0\n",
      "Votre solde est de 1000\n",
      "Votre solde est de 900\n",
      "Il n'y a pas assez d'argent sur votre compte(900)\n",
      "Votre solde est de 900\n"
     ]
    }
   ],
   "source": [
    "class BanqAccount:\n",
    "    def __init__(self):\n",
    "        self.account = 0\n",
    "    def deposit(self, amount):\n",
    "        self.account += amount\n",
    "    def withdraw(self, amount):\n",
    "        if amount <= self.account:\n",
    "            self.account -= amount\n",
    "        else:\n",
    "            print(f\"Il n'y a pas assez d'argent sur votre compte({self.account})\")\n",
    "    def display(self):\n",
    "        print(f\"Votre solde est de {self.account}\")\n",
    "\n",
    "BQ = BanqAccount()\n",
    "BQ.display()\n",
    "BQ.deposit(1000)\n",
    "BQ.display()\n",
    "BQ.withdraw(100)\n",
    "BQ.display()\n",
    "BQ.withdraw(10000)\n",
    "BQ.display()"
   ]
  },
  {
   "cell_type": "code",
   "execution_count": 178,
   "id": "ab436cdc",
   "metadata": {},
   "outputs": [
    {
     "name": "stdout",
     "output_type": "stream",
     "text": [
      "toto\n"
     ]
    }
   ],
   "source": [
    "class Test:\n",
    "    def __init__(self):\n",
    "        self.name = \"toto\"\n",
    "test = Test()\n",
    "print(test.name)"
   ]
  },
  {
   "cell_type": "code",
   "execution_count": null,
   "id": "3e74c274",
   "metadata": {},
   "outputs": [
    {
     "ename": "TypeError",
     "evalue": "Employee.__init__() takes 2 positional arguments but 3 were given",
     "output_type": "error",
     "traceback": [
      "\u001b[1;31m---------------------------------------------------------------------------\u001b[0m",
      "\u001b[1;31mTypeError\u001b[0m                                 Traceback (most recent call last)",
      "Cell \u001b[1;32mIn[182], line 11\u001b[0m\n\u001b[0;32m      8\u001b[0m     \u001b[38;5;28;01mdef\u001b[39;00m\u001b[38;5;250m \u001b[39m\u001b[38;5;21mdisplay_infos\u001b[39m(\u001b[38;5;28mself\u001b[39m):\n\u001b[0;32m      9\u001b[0m         \u001b[38;5;28mprint\u001b[39m(\u001b[38;5;124mf\u001b[39m\u001b[38;5;124m\"\u001b[39m\u001b[38;5;132;01m{\u001b[39;00mPerson\u001b[38;5;132;01m}\u001b[39;00m\u001b[38;5;124m gagne \u001b[39m\u001b[38;5;132;01m{\u001b[39;00m\u001b[38;5;28mself\u001b[39m\u001b[38;5;241m.\u001b[39msalary\u001b[38;5;132;01m}\u001b[39;00m\u001b[38;5;124m\"\u001b[39m)\n\u001b[1;32m---> 11\u001b[0m toto \u001b[38;5;241m=\u001b[39m \u001b[43mEmployee\u001b[49m\u001b[43m(\u001b[49m\u001b[38;5;124;43m\"\u001b[39;49m\u001b[38;5;124;43mtoto\u001b[39;49m\u001b[38;5;124;43m\"\u001b[39;49m\u001b[43m,\u001b[49m\u001b[43m \u001b[49m\u001b[38;5;241;43m1000\u001b[39;49m\u001b[43m)\u001b[49m\n\u001b[0;32m     12\u001b[0m toto\u001b[38;5;241m.\u001b[39mdisplay_infos()\n",
      "\u001b[1;31mTypeError\u001b[0m: Employee.__init__() takes 2 positional arguments but 3 were given"
     ]
    }
   ],
   "source": []
  }
 ],
 "metadata": {
  "kernelspec": {
   "display_name": "Python 3",
   "language": "python",
   "name": "python3"
  },
  "language_info": {
   "codemirror_mode": {
    "name": "ipython",
    "version": 3
   },
   "file_extension": ".py",
   "mimetype": "text/x-python",
   "name": "python",
   "nbconvert_exporter": "python",
   "pygments_lexer": "ipython3",
   "version": "3.13.1"
  }
 },
 "nbformat": 4,
 "nbformat_minor": 5
}
