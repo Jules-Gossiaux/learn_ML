{
 "cells": [
  {
   "cell_type": "markdown",
   "id": "52e8bb0a",
   "metadata": {},
   "source": [
    "* Objectif :    \n",
    "    - Prédire si une personne est infectée en fonction des données cliniques disponibles\n",
    "* Métrique adaptée choisie ? (ex : F1, Recall...)\n",
    "    - F1 min 50% et recall min 70%"
   ]
  },
  {
   "cell_type": "code",
   "execution_count": 75,
   "id": "c8afdd0c",
   "metadata": {
    "jupyter": {
     "is_executing": true
    }
   },
   "outputs": [],
   "source": [
    "# Imports standards\n",
    "import numpy as np\n",
    "import pandas as pd\n",
    "import matplotlib.pyplot as plt\n",
    "import seaborn as sns\n",
    "\n",
    "# Scikit-learn: model selection\n",
    "from sklearn.model_selection import (\n",
    "    GridSearchCV,\n",
    "    cross_val_score,\n",
    "    learning_curve,\n",
    "    train_test_split,\n",
    "    validation_curve,\n",
    ")\n",
    "\n",
    "# Scikit-learn: preprocessing\n",
    "from sklearn.preprocessing import (\n",
    "    Binarizer,\n",
    "    KBinsDiscretizer,\n",
    "    LabelEncoder,\n",
    "    MinMaxScaler,\n",
    "    OneHotEncoder,\n",
    "    OrdinalEncoder,\n",
    "    PolynomialFeatures,\n",
    "    RobustScaler,\n",
    "    StandardScaler,\n",
    ")\n",
    "\n",
    "# Scikit-learn: pipeline & composition\n",
    "from sklearn.pipeline import make_pipeline, make_union\n",
    "from sklearn.compose import make_column_selector, make_column_transformer\n",
    "\n",
    "# Scikit-learn: imputation\n",
    "from sklearn.impute import SimpleImputer\n",
    "\n",
    "# Scikit-learn: feature selection\n",
    "from sklearn.feature_selection import (\n",
    "    RFECV,\n",
    "    RFE,\n",
    "    SelectFromModel,\n",
    "    SelectKBest,\n",
    "    VarianceThreshold,\n",
    "    chi2,\n",
    ")\n",
    "\n",
    "# Scikit-learn: models\n",
    "from sklearn.linear_model import LinearRegression, SGDClassifier\n",
    "from sklearn.neighbors import KNeighborsClassifier\n",
    "from sklearn.tree import DecisionTreeClassifier\n",
    "from sklearn.cluster import KMeans\n",
    "from sklearn.ensemble import (\n",
    "    AdaBoostClassifier,\n",
    "    BaggingClassifier,\n",
    "    GradientBoostingClassifier,\n",
    "    IsolationForest,\n",
    "    RandomForestClassifier,\n",
    "    StackingClassifier,\n",
    "    VotingClassifier,\n",
    ")\n",
    "\n",
    "# Scikit-learn: decomposition\n",
    "from sklearn.decomposition import PCA\n",
    "\n",
    "# Scikit-learn: metrics\n",
    "from sklearn.metrics import (\n",
    "    confusion_matrix,\n",
    "    mean_absolute_error,\n",
    "    mean_squared_error,\n",
    "    median_absolute_error,\n",
    ") \n",
    "pd.reset_option('display.max_rows')\n",
    "pd.reset_option('display.max_columns')\n",
    "pd.reset_option('display.width')\n",
    "pd.reset_option('display.max_colwidth')"
   ]
  },
  {
   "cell_type": "markdown",
   "id": "25d93b8c",
   "metadata": {},
   "source": [
    "## EDA"
   ]
  },
  {
   "cell_type": "markdown",
   "id": "1335f59f",
   "metadata": {},
   "source": [
    "### Form Analysis (EDA)"
   ]
  },
  {
   "cell_type": "markdown",
   "id": "9079884f",
   "metadata": {},
   "source": [
    "* [X]Ai-je identifié la variable cible (target) ?\n",
    "    - target = data[\"SARS-Cov-2 exam result\t\"]"
   ]
  },
  {
   "cell_type": "code",
   "execution_count": 76,
   "id": "c1595a79",
   "metadata": {},
   "outputs": [
    {
     "data": {
      "text/html": [
       "<div>\n",
       "<style scoped>\n",
       "    .dataframe tbody tr th:only-of-type {\n",
       "        vertical-align: middle;\n",
       "    }\n",
       "\n",
       "    .dataframe tbody tr th {\n",
       "        vertical-align: top;\n",
       "    }\n",
       "\n",
       "    .dataframe thead th {\n",
       "        text-align: right;\n",
       "    }\n",
       "</style>\n",
       "<table border=\"1\" class=\"dataframe\">\n",
       "  <thead>\n",
       "    <tr style=\"text-align: right;\">\n",
       "      <th></th>\n",
       "      <th>Patient ID</th>\n",
       "      <th>Patient age quantile</th>\n",
       "      <th>SARS-Cov-2 exam result</th>\n",
       "      <th>Patient addmited to regular ward (1=yes, 0=no)</th>\n",
       "      <th>Patient addmited to semi-intensive unit (1=yes, 0=no)</th>\n",
       "      <th>Patient addmited to intensive care unit (1=yes, 0=no)</th>\n",
       "      <th>Hematocrit</th>\n",
       "      <th>Hemoglobin</th>\n",
       "      <th>Platelets</th>\n",
       "      <th>Mean platelet volume</th>\n",
       "      <th>...</th>\n",
       "      <th>Hb saturation (arterial blood gases)</th>\n",
       "      <th>pCO2 (arterial blood gas analysis)</th>\n",
       "      <th>Base excess (arterial blood gas analysis)</th>\n",
       "      <th>pH (arterial blood gas analysis)</th>\n",
       "      <th>Total CO2 (arterial blood gas analysis)</th>\n",
       "      <th>HCO3 (arterial blood gas analysis)</th>\n",
       "      <th>pO2 (arterial blood gas analysis)</th>\n",
       "      <th>Arteiral Fio2</th>\n",
       "      <th>Phosphor</th>\n",
       "      <th>ctO2 (arterial blood gas analysis)</th>\n",
       "    </tr>\n",
       "  </thead>\n",
       "  <tbody>\n",
       "    <tr>\n",
       "      <th>0</th>\n",
       "      <td>44477f75e8169d2</td>\n",
       "      <td>13</td>\n",
       "      <td>negative</td>\n",
       "      <td>0</td>\n",
       "      <td>0</td>\n",
       "      <td>0</td>\n",
       "      <td>NaN</td>\n",
       "      <td>NaN</td>\n",
       "      <td>NaN</td>\n",
       "      <td>NaN</td>\n",
       "      <td>...</td>\n",
       "      <td>NaN</td>\n",
       "      <td>NaN</td>\n",
       "      <td>NaN</td>\n",
       "      <td>NaN</td>\n",
       "      <td>NaN</td>\n",
       "      <td>NaN</td>\n",
       "      <td>NaN</td>\n",
       "      <td>NaN</td>\n",
       "      <td>NaN</td>\n",
       "      <td>NaN</td>\n",
       "    </tr>\n",
       "    <tr>\n",
       "      <th>1</th>\n",
       "      <td>126e9dd13932f68</td>\n",
       "      <td>17</td>\n",
       "      <td>negative</td>\n",
       "      <td>0</td>\n",
       "      <td>0</td>\n",
       "      <td>0</td>\n",
       "      <td>0.236515</td>\n",
       "      <td>-0.022340</td>\n",
       "      <td>-0.517413</td>\n",
       "      <td>0.010677</td>\n",
       "      <td>...</td>\n",
       "      <td>NaN</td>\n",
       "      <td>NaN</td>\n",
       "      <td>NaN</td>\n",
       "      <td>NaN</td>\n",
       "      <td>NaN</td>\n",
       "      <td>NaN</td>\n",
       "      <td>NaN</td>\n",
       "      <td>NaN</td>\n",
       "      <td>NaN</td>\n",
       "      <td>NaN</td>\n",
       "    </tr>\n",
       "    <tr>\n",
       "      <th>2</th>\n",
       "      <td>a46b4402a0e5696</td>\n",
       "      <td>8</td>\n",
       "      <td>negative</td>\n",
       "      <td>0</td>\n",
       "      <td>0</td>\n",
       "      <td>0</td>\n",
       "      <td>NaN</td>\n",
       "      <td>NaN</td>\n",
       "      <td>NaN</td>\n",
       "      <td>NaN</td>\n",
       "      <td>...</td>\n",
       "      <td>NaN</td>\n",
       "      <td>NaN</td>\n",
       "      <td>NaN</td>\n",
       "      <td>NaN</td>\n",
       "      <td>NaN</td>\n",
       "      <td>NaN</td>\n",
       "      <td>NaN</td>\n",
       "      <td>NaN</td>\n",
       "      <td>NaN</td>\n",
       "      <td>NaN</td>\n",
       "    </tr>\n",
       "    <tr>\n",
       "      <th>3</th>\n",
       "      <td>f7d619a94f97c45</td>\n",
       "      <td>5</td>\n",
       "      <td>negative</td>\n",
       "      <td>0</td>\n",
       "      <td>0</td>\n",
       "      <td>0</td>\n",
       "      <td>NaN</td>\n",
       "      <td>NaN</td>\n",
       "      <td>NaN</td>\n",
       "      <td>NaN</td>\n",
       "      <td>...</td>\n",
       "      <td>NaN</td>\n",
       "      <td>NaN</td>\n",
       "      <td>NaN</td>\n",
       "      <td>NaN</td>\n",
       "      <td>NaN</td>\n",
       "      <td>NaN</td>\n",
       "      <td>NaN</td>\n",
       "      <td>NaN</td>\n",
       "      <td>NaN</td>\n",
       "      <td>NaN</td>\n",
       "    </tr>\n",
       "    <tr>\n",
       "      <th>4</th>\n",
       "      <td>d9e41465789c2b5</td>\n",
       "      <td>15</td>\n",
       "      <td>negative</td>\n",
       "      <td>0</td>\n",
       "      <td>0</td>\n",
       "      <td>0</td>\n",
       "      <td>NaN</td>\n",
       "      <td>NaN</td>\n",
       "      <td>NaN</td>\n",
       "      <td>NaN</td>\n",
       "      <td>...</td>\n",
       "      <td>NaN</td>\n",
       "      <td>NaN</td>\n",
       "      <td>NaN</td>\n",
       "      <td>NaN</td>\n",
       "      <td>NaN</td>\n",
       "      <td>NaN</td>\n",
       "      <td>NaN</td>\n",
       "      <td>NaN</td>\n",
       "      <td>NaN</td>\n",
       "      <td>NaN</td>\n",
       "    </tr>\n",
       "    <tr>\n",
       "      <th>...</th>\n",
       "      <td>...</td>\n",
       "      <td>...</td>\n",
       "      <td>...</td>\n",
       "      <td>...</td>\n",
       "      <td>...</td>\n",
       "      <td>...</td>\n",
       "      <td>...</td>\n",
       "      <td>...</td>\n",
       "      <td>...</td>\n",
       "      <td>...</td>\n",
       "      <td>...</td>\n",
       "      <td>...</td>\n",
       "      <td>...</td>\n",
       "      <td>...</td>\n",
       "      <td>...</td>\n",
       "      <td>...</td>\n",
       "      <td>...</td>\n",
       "      <td>...</td>\n",
       "      <td>...</td>\n",
       "      <td>...</td>\n",
       "      <td>...</td>\n",
       "    </tr>\n",
       "    <tr>\n",
       "      <th>5639</th>\n",
       "      <td>ae66feb9e4dc3a0</td>\n",
       "      <td>3</td>\n",
       "      <td>positive</td>\n",
       "      <td>0</td>\n",
       "      <td>0</td>\n",
       "      <td>0</td>\n",
       "      <td>NaN</td>\n",
       "      <td>NaN</td>\n",
       "      <td>NaN</td>\n",
       "      <td>NaN</td>\n",
       "      <td>...</td>\n",
       "      <td>NaN</td>\n",
       "      <td>NaN</td>\n",
       "      <td>NaN</td>\n",
       "      <td>NaN</td>\n",
       "      <td>NaN</td>\n",
       "      <td>NaN</td>\n",
       "      <td>NaN</td>\n",
       "      <td>NaN</td>\n",
       "      <td>NaN</td>\n",
       "      <td>NaN</td>\n",
       "    </tr>\n",
       "    <tr>\n",
       "      <th>5640</th>\n",
       "      <td>517c2834024f3ea</td>\n",
       "      <td>17</td>\n",
       "      <td>negative</td>\n",
       "      <td>0</td>\n",
       "      <td>0</td>\n",
       "      <td>0</td>\n",
       "      <td>NaN</td>\n",
       "      <td>NaN</td>\n",
       "      <td>NaN</td>\n",
       "      <td>NaN</td>\n",
       "      <td>...</td>\n",
       "      <td>NaN</td>\n",
       "      <td>NaN</td>\n",
       "      <td>NaN</td>\n",
       "      <td>NaN</td>\n",
       "      <td>NaN</td>\n",
       "      <td>NaN</td>\n",
       "      <td>NaN</td>\n",
       "      <td>NaN</td>\n",
       "      <td>NaN</td>\n",
       "      <td>NaN</td>\n",
       "    </tr>\n",
       "    <tr>\n",
       "      <th>5641</th>\n",
       "      <td>5c57d6037fe266d</td>\n",
       "      <td>4</td>\n",
       "      <td>negative</td>\n",
       "      <td>0</td>\n",
       "      <td>0</td>\n",
       "      <td>0</td>\n",
       "      <td>NaN</td>\n",
       "      <td>NaN</td>\n",
       "      <td>NaN</td>\n",
       "      <td>NaN</td>\n",
       "      <td>...</td>\n",
       "      <td>NaN</td>\n",
       "      <td>NaN</td>\n",
       "      <td>NaN</td>\n",
       "      <td>NaN</td>\n",
       "      <td>NaN</td>\n",
       "      <td>NaN</td>\n",
       "      <td>NaN</td>\n",
       "      <td>NaN</td>\n",
       "      <td>NaN</td>\n",
       "      <td>NaN</td>\n",
       "    </tr>\n",
       "    <tr>\n",
       "      <th>5642</th>\n",
       "      <td>c20c44766f28291</td>\n",
       "      <td>10</td>\n",
       "      <td>negative</td>\n",
       "      <td>0</td>\n",
       "      <td>0</td>\n",
       "      <td>0</td>\n",
       "      <td>NaN</td>\n",
       "      <td>NaN</td>\n",
       "      <td>NaN</td>\n",
       "      <td>NaN</td>\n",
       "      <td>...</td>\n",
       "      <td>NaN</td>\n",
       "      <td>NaN</td>\n",
       "      <td>NaN</td>\n",
       "      <td>NaN</td>\n",
       "      <td>NaN</td>\n",
       "      <td>NaN</td>\n",
       "      <td>NaN</td>\n",
       "      <td>NaN</td>\n",
       "      <td>NaN</td>\n",
       "      <td>NaN</td>\n",
       "    </tr>\n",
       "    <tr>\n",
       "      <th>5643</th>\n",
       "      <td>2697fdccbfeb7f7</td>\n",
       "      <td>19</td>\n",
       "      <td>positive</td>\n",
       "      <td>0</td>\n",
       "      <td>0</td>\n",
       "      <td>0</td>\n",
       "      <td>0.694287</td>\n",
       "      <td>0.541564</td>\n",
       "      <td>-0.906829</td>\n",
       "      <td>-0.325903</td>\n",
       "      <td>...</td>\n",
       "      <td>NaN</td>\n",
       "      <td>NaN</td>\n",
       "      <td>NaN</td>\n",
       "      <td>NaN</td>\n",
       "      <td>NaN</td>\n",
       "      <td>NaN</td>\n",
       "      <td>NaN</td>\n",
       "      <td>NaN</td>\n",
       "      <td>NaN</td>\n",
       "      <td>NaN</td>\n",
       "    </tr>\n",
       "  </tbody>\n",
       "</table>\n",
       "<p>5644 rows × 111 columns</p>\n",
       "</div>"
      ],
      "text/plain": [
       "           Patient ID  Patient age quantile SARS-Cov-2 exam result  \\\n",
       "0     44477f75e8169d2                    13               negative   \n",
       "1     126e9dd13932f68                    17               negative   \n",
       "2     a46b4402a0e5696                     8               negative   \n",
       "3     f7d619a94f97c45                     5               negative   \n",
       "4     d9e41465789c2b5                    15               negative   \n",
       "...               ...                   ...                    ...   \n",
       "5639  ae66feb9e4dc3a0                     3               positive   \n",
       "5640  517c2834024f3ea                    17               negative   \n",
       "5641  5c57d6037fe266d                     4               negative   \n",
       "5642  c20c44766f28291                    10               negative   \n",
       "5643  2697fdccbfeb7f7                    19               positive   \n",
       "\n",
       "      Patient addmited to regular ward (1=yes, 0=no)  \\\n",
       "0                                                  0   \n",
       "1                                                  0   \n",
       "2                                                  0   \n",
       "3                                                  0   \n",
       "4                                                  0   \n",
       "...                                              ...   \n",
       "5639                                               0   \n",
       "5640                                               0   \n",
       "5641                                               0   \n",
       "5642                                               0   \n",
       "5643                                               0   \n",
       "\n",
       "      Patient addmited to semi-intensive unit (1=yes, 0=no)  \\\n",
       "0                                                     0       \n",
       "1                                                     0       \n",
       "2                                                     0       \n",
       "3                                                     0       \n",
       "4                                                     0       \n",
       "...                                                 ...       \n",
       "5639                                                  0       \n",
       "5640                                                  0       \n",
       "5641                                                  0       \n",
       "5642                                                  0       \n",
       "5643                                                  0       \n",
       "\n",
       "      Patient addmited to intensive care unit (1=yes, 0=no)  Hematocrit  \\\n",
       "0                                                     0             NaN   \n",
       "1                                                     0        0.236515   \n",
       "2                                                     0             NaN   \n",
       "3                                                     0             NaN   \n",
       "4                                                     0             NaN   \n",
       "...                                                 ...             ...   \n",
       "5639                                                  0             NaN   \n",
       "5640                                                  0             NaN   \n",
       "5641                                                  0             NaN   \n",
       "5642                                                  0             NaN   \n",
       "5643                                                  0        0.694287   \n",
       "\n",
       "      Hemoglobin  Platelets  Mean platelet volume   ...  \\\n",
       "0            NaN        NaN                    NaN  ...   \n",
       "1      -0.022340  -0.517413               0.010677  ...   \n",
       "2            NaN        NaN                    NaN  ...   \n",
       "3            NaN        NaN                    NaN  ...   \n",
       "4            NaN        NaN                    NaN  ...   \n",
       "...          ...        ...                    ...  ...   \n",
       "5639         NaN        NaN                    NaN  ...   \n",
       "5640         NaN        NaN                    NaN  ...   \n",
       "5641         NaN        NaN                    NaN  ...   \n",
       "5642         NaN        NaN                    NaN  ...   \n",
       "5643    0.541564  -0.906829              -0.325903  ...   \n",
       "\n",
       "      Hb saturation (arterial blood gases)  \\\n",
       "0                                      NaN   \n",
       "1                                      NaN   \n",
       "2                                      NaN   \n",
       "3                                      NaN   \n",
       "4                                      NaN   \n",
       "...                                    ...   \n",
       "5639                                   NaN   \n",
       "5640                                   NaN   \n",
       "5641                                   NaN   \n",
       "5642                                   NaN   \n",
       "5643                                   NaN   \n",
       "\n",
       "      pCO2 (arterial blood gas analysis)  \\\n",
       "0                                    NaN   \n",
       "1                                    NaN   \n",
       "2                                    NaN   \n",
       "3                                    NaN   \n",
       "4                                    NaN   \n",
       "...                                  ...   \n",
       "5639                                 NaN   \n",
       "5640                                 NaN   \n",
       "5641                                 NaN   \n",
       "5642                                 NaN   \n",
       "5643                                 NaN   \n",
       "\n",
       "      Base excess (arterial blood gas analysis)  \\\n",
       "0                                           NaN   \n",
       "1                                           NaN   \n",
       "2                                           NaN   \n",
       "3                                           NaN   \n",
       "4                                           NaN   \n",
       "...                                         ...   \n",
       "5639                                        NaN   \n",
       "5640                                        NaN   \n",
       "5641                                        NaN   \n",
       "5642                                        NaN   \n",
       "5643                                        NaN   \n",
       "\n",
       "      pH (arterial blood gas analysis)  \\\n",
       "0                                  NaN   \n",
       "1                                  NaN   \n",
       "2                                  NaN   \n",
       "3                                  NaN   \n",
       "4                                  NaN   \n",
       "...                                ...   \n",
       "5639                               NaN   \n",
       "5640                               NaN   \n",
       "5641                               NaN   \n",
       "5642                               NaN   \n",
       "5643                               NaN   \n",
       "\n",
       "      Total CO2 (arterial blood gas analysis)  \\\n",
       "0                                         NaN   \n",
       "1                                         NaN   \n",
       "2                                         NaN   \n",
       "3                                         NaN   \n",
       "4                                         NaN   \n",
       "...                                       ...   \n",
       "5639                                      NaN   \n",
       "5640                                      NaN   \n",
       "5641                                      NaN   \n",
       "5642                                      NaN   \n",
       "5643                                      NaN   \n",
       "\n",
       "      HCO3 (arterial blood gas analysis)  pO2 (arterial blood gas analysis)  \\\n",
       "0                                    NaN                                NaN   \n",
       "1                                    NaN                                NaN   \n",
       "2                                    NaN                                NaN   \n",
       "3                                    NaN                                NaN   \n",
       "4                                    NaN                                NaN   \n",
       "...                                  ...                                ...   \n",
       "5639                                 NaN                                NaN   \n",
       "5640                                 NaN                                NaN   \n",
       "5641                                 NaN                                NaN   \n",
       "5642                                 NaN                                NaN   \n",
       "5643                                 NaN                                NaN   \n",
       "\n",
       "      Arteiral Fio2  Phosphor  ctO2 (arterial blood gas analysis)  \n",
       "0               NaN       NaN                                 NaN  \n",
       "1               NaN       NaN                                 NaN  \n",
       "2               NaN       NaN                                 NaN  \n",
       "3               NaN       NaN                                 NaN  \n",
       "4               NaN       NaN                                 NaN  \n",
       "...             ...       ...                                 ...  \n",
       "5639            NaN       NaN                                 NaN  \n",
       "5640            NaN       NaN                                 NaN  \n",
       "5641            NaN       NaN                                 NaN  \n",
       "5642            NaN       NaN                                 NaN  \n",
       "5643            NaN       NaN                                 NaN  \n",
       "\n",
       "[5644 rows x 111 columns]"
      ]
     },
     "metadata": {},
     "output_type": "display_data"
    }
   ],
   "source": [
    "#Importe le dataset covid 19 et affichage des données du dataset\n",
    "df = pd.read_csv(\"../data/covid-19.csv\", encoding=\"latin1\")\n",
    "display(df) #Target = SARS-Cov-2 exam result\n"
   ]
  },
  {
   "cell_type": "markdown",
   "id": "739701dc",
   "metadata": {},
   "source": [
    "* [X]Ai-je noté le nombre de lignes et colonnes du dataset ?\n",
    "    - (5644, 111)"
   ]
  },
  {
   "cell_type": "code",
   "execution_count": 77,
   "id": "a0cb2b97",
   "metadata": {},
   "outputs": [
    {
     "data": {
      "text/plain": [
       "(5644, 111)"
      ]
     },
     "execution_count": 77,
     "metadata": {},
     "output_type": "execute_result"
    }
   ],
   "source": [
    "df.shape"
   ]
  },
  {
   "cell_type": "markdown",
   "id": "d3ecbeac",
   "metadata": {},
   "source": [
    "* [X] Les types de variables sont-ils bien identifiés (numériques, catégorielles...) ? (sns.pie and dtype with value_counts)\n",
    "    - float64: 70, object: 37, int64: 4\n",
    "\n",
    "**Tips**:\n",
    "- (sns.pie and dtype with value_counts)"
   ]
  },
  {
   "cell_type": "code",
   "execution_count": null,
   "id": "8ded69f7",
   "metadata": {},
   "outputs": [],
   "source": [
    "#Displays the types of variables in the dataset\n",
    "print(df.dtypes.value_counts())\n",
    "plt.pie(df.dtypes.value_counts(), labels=df.dtypes.value_counts().index, autopct='%1.1f%%')"
   ]
  },
  {
   "cell_type": "markdown",
   "id": "1e0ab908",
   "metadata": {},
   "source": [
    "* [X]Ai-je repéré les valeurs manquantes ? \n",
    "    - When there are lines in the heatmap, there are relations in the variables\n",
    "    - 72 columns with missing value percentage over 90%\n",
    "    - 2 groups: 76% => viral test, 89% taux sanguins\n",
    "\n",
    "**Tips**:\n",
    "   - with isna and sns.heatmap\n",
    "   - IF yes => delete the columns with a too many of Nan values\n",
    "   - Displays the percentage of missing values for findind groups in data"
   ]
  },
  {
   "cell_type": "code",
   "execution_count": null,
   "id": "10b4f735",
   "metadata": {},
   "outputs": [],
   "source": [
    "### By myself\n",
    "plt.figure(figsize=(20, 10))\n",
    "sns.heatmap(df.isna(), cbar=False)\n",
    "print(\"Pourcentage total de valeurs manquantes dans le dataset:\", (df.isna().sum()).sum() / (df.shape[0] * df.shape[1]))\n",
    "print(\"Nombre de colonnes avec plus de 90% de valeurs manquantes:\", ((df.isna().sum() / df.shape[0]) > 0.90).sum())\n",
    "print(\"Pourcentage de valeurs manquantes par colonne (triées):\")\n",
    "missing_percentages = (df.isna().sum() / df.shape[0]).sort_values(ascending=False)\n",
    "print(missing_percentages)"
   ]
  },
  {
   "cell_type": "markdown",
   "id": "2ae6e418",
   "metadata": {},
   "source": [
    "### Content analysis (EDA)\n",
    "##### + nettoyage du df\n",
    "\n"
   ]
  },
  {
   "cell_type": "code",
   "execution_count": 80,
   "id": "c4a32a9a",
   "metadata": {},
   "outputs": [],
   "source": [
    "df = df.loc[:, df.isna().sum()/df.shape[0] < 0.90]\n",
    "df = df.drop(\"Patient ID\", axis=1)  # Drop the \"Patien ID\" column as it is not useful for analysis"
   ]
  },
  {
   "cell_type": "markdown",
   "id": "f5d6c4d9",
   "metadata": {},
   "source": [
    "* Visualisation de la target (histogramme, boxplot) ?\n",
    "    - 10% positive test => Classes pas équilibrées => utiliser score F1\n",
    "\n",
    "**Tips**:\n",
    "- (sns.pie and dtype with value_counts)"
   ]
  },
  {
   "cell_type": "code",
   "execution_count": 81,
   "id": "1fd7deed",
   "metadata": {},
   "outputs": [
    {
     "data": {
      "text/plain": [
       "SARS-Cov-2 exam result\n",
       "negative    0.901134\n",
       "positive    0.098866\n",
       "Name: proportion, dtype: float64"
      ]
     },
     "execution_count": 81,
     "metadata": {},
     "output_type": "execute_result"
    }
   ],
   "source": [
    "df[\"SARS-Cov-2 exam result\"].value_counts(normalize=True)"
   ]
  },
  {
   "cell_type": "markdown",
   "id": "e4ec756c",
   "metadata": {},
   "source": [
    "* Significations des variables (Histogrammes de valeurs)?\n",
    "    - Les courbes sont centrées en 0 avec écrat type = 1 => données standardisées\n",
    "    - distribution normales pour la plupart\n",
    "    - virale, variable qualitative binaire, rhinovirus qui semble très élevé\n",
    "\n",
    "**Tips**:\n",
    "- Utiliser .select_dtypes() pour sélectionner seulement un type de donnée\n",
    "- Utiliser unique pour obtenir le type de variable(similaire à value_counts)\n",
    "- Utiliser pie pour visualiser la distribution de chacune des colonnes"
   ]
  },
  {
   "cell_type": "markdown",
   "id": "2010bb89",
   "metadata": {},
   "source": [
    "Variables quantitatives"
   ]
  },
  {
   "cell_type": "code",
   "execution_count": null,
   "id": "599487fa",
   "metadata": {},
   "outputs": [],
   "source": [
    "\n",
    "for col in df.select_dtypes(\"float\"): # Loop through all float columns\n",
    "    sns.displot(df[col])"
   ]
  },
  {
   "cell_type": "code",
   "execution_count": null,
   "id": "5ae1f487",
   "metadata": {},
   "outputs": [],
   "source": [
    "sns.displot(df[\"Patient age quantile\"])"
   ]
  },
  {
   "cell_type": "markdown",
   "id": "78dc9c65",
   "metadata": {},
   "source": [
    "Variables Qualitatives"
   ]
  },
  {
   "cell_type": "code",
   "execution_count": 84,
   "id": "ee4bc46e",
   "metadata": {},
   "outputs": [
    {
     "name": "stdout",
     "output_type": "stream",
     "text": [
      "SARS-Cov-2 exam result------------------ ['negative' 'positive']\n",
      "Respiratory Syncytial Virus------------- [nan 'not_detected' 'detected']\n",
      "Influenza A----------------------------- [nan 'not_detected' 'detected']\n",
      "Influenza B----------------------------- [nan 'not_detected' 'detected']\n",
      "Parainfluenza 1------------------------- [nan 'not_detected' 'detected']\n",
      "CoronavirusNL63------------------------- [nan 'not_detected' 'detected']\n",
      "Rhinovirus/Enterovirus------------------ [nan 'detected' 'not_detected']\n",
      "Coronavirus HKU1------------------------ [nan 'not_detected' 'detected']\n",
      "Parainfluenza 3------------------------- [nan 'not_detected' 'detected']\n",
      "Chlamydophila pneumoniae---------------- [nan 'not_detected' 'detected']\n",
      "Adenovirus------------------------------ [nan 'not_detected' 'detected']\n",
      "Parainfluenza 4------------------------- [nan 'not_detected' 'detected']\n",
      "Coronavirus229E------------------------- [nan 'not_detected' 'detected']\n",
      "CoronavirusOC43------------------------- [nan 'not_detected' 'detected']\n",
      "Inf A H1N1 2009------------------------- [nan 'not_detected' 'detected']\n",
      "Bordetella pertussis-------------------- [nan 'not_detected' 'detected']\n",
      "Metapneumovirus------------------------- [nan 'not_detected' 'detected']\n",
      "Parainfluenza 2------------------------- [nan 'not_detected']\n",
      "Influenza B, rapid test----------------- [nan 'negative' 'positive']\n",
      "Influenza A, rapid test----------------- [nan 'negative' 'positive']\n"
     ]
    }
   ],
   "source": [
    "for col in df.select_dtypes(\"object\"):\n",
    "    print(f'{col :-<40} {df[col].unique()}')"
   ]
  },
  {
   "cell_type": "code",
   "execution_count": null,
   "id": "7dadec21",
   "metadata": {},
   "outputs": [],
   "source": [
    "for col in df.select_dtypes(\"object\"):\n",
    "    plt.figure()\n",
    "    df.value_counts(col).plot.pie()\n",
    "    plt.title(col)"
   ]
  },
  {
   "cell_type": "markdown",
   "id": "dfc015ea",
   "metadata": {},
   "source": [
    "* Relation Target/Variables (histogrammes ...)?\n",
    "    - blood/target: taux de Monocytes, PLatelets, Leukocytes semblent liés au covid => hypothèse à tester\n",
    "    - targte/age: quand variable faible, très faible taux de contamination. ATTENTION: on ne connait pas la signification de la variable. Elle pourra être utile pour comparer avec tests sanguins\n",
    "    - target/viral: double maladie très rare, quand Rhinovirus/Enterovirus positif, covid negatif MAIS pas sûr => à tester, suppression de la variable Parainfluenza 2 car il n'y a aucun cas détécté => on ne peut pas corréler cette maladie avec le covid 19\n",
    "\n",
    "**Tips**:\n",
    "- sns.histplot, displot, pairplot\n",
    "- sns.countplot\n",
    "- pd.crosstab"
   ]
  },
  {
   "cell_type": "markdown",
   "id": "7c61564f",
   "metadata": {},
   "source": [
    "Création de sous ensembles positifs/négatifs et blood/viral"
   ]
  },
  {
   "cell_type": "code",
   "execution_count": 86,
   "id": "177dbe69",
   "metadata": {},
   "outputs": [
    {
     "name": "stdout",
     "output_type": "stream",
     "text": [
      "blood_columns: (14,)\n",
      "viral_columns: (17,)\n"
     ]
    }
   ],
   "source": [
    "positive_df = df[df[\"SARS-Cov-2 exam result\"] == \"positive\"]\n",
    "negative_df = df[df[\"SARS-Cov-2 exam result\"] == \"negative\"]\n",
    "missing_rate = df.isna().sum() / df.shape[0]\n",
    "blood_columns = df.columns[(missing_rate < 0.90) & (missing_rate > 0.89)]\n",
    "viral_columns = df.columns[(missing_rate < 0.77) & (missing_rate > 0.76)]\n",
    "\n",
    "print(f\"blood_columns: {blood_columns.shape}\")\n",
    "print(f\"viral_columns: {viral_columns.shape}\")"
   ]
  },
  {
   "cell_type": "markdown",
   "id": "d52c98d6",
   "metadata": {},
   "source": [
    "Relations entre target/blood"
   ]
  },
  {
   "cell_type": "code",
   "execution_count": null,
   "id": "d69a6830",
   "metadata": {},
   "outputs": [],
   "source": [
    "for col in blood_columns:\n",
    "    plt.figure()\n",
    "    sns.histplot(positive_df[col], label=\"positive\", kde=True, alpha=0.5, color=\"blue\", stat=\"density\")\n",
    "    sns.histplot(negative_df[col], label=\"negative\", kde=True, alpha=0.5, color=\"red\", stat=\"density\")\n",
    "    plt.legend()\n",
    "    plt.title(f\"{col} (positive vs negative)\")\n",
    "    plt.ylabel(\"Densité\")\n",
    "    plt.show()"
   ]
  },
  {
   "cell_type": "markdown",
   "id": "b73ee43e",
   "metadata": {},
   "source": [
    "Relation target/age"
   ]
  },
  {
   "cell_type": "code",
   "execution_count": null,
   "id": "da947b35",
   "metadata": {},
   "outputs": [],
   "source": [
    "sns.countplot(x=\"Patient age quantile\", hue=\"SARS-Cov-2 exam result\", data=df)"
   ]
  },
  {
   "cell_type": "markdown",
   "id": "7ec9e023",
   "metadata": {},
   "source": [
    "Relation entre target/viral"
   ]
  },
  {
   "cell_type": "code",
   "execution_count": null,
   "id": "572eb15f",
   "metadata": {},
   "outputs": [],
   "source": [
    "for col in viral_columns:\n",
    "    plt.figure()\n",
    "    sns.heatmap(pd.crosstab(df[\"SARS-Cov-2 exam result\"], df[col]), annot=True, fmt=\"d\")"
   ]
  },
  {
   "cell_type": "markdown",
   "id": "4ab77740",
   "metadata": {},
   "source": [
    "### Analyse plus détaillée"
   ]
  },
  {
   "cell_type": "markdown",
   "id": "b06cfef9",
   "metadata": {},
   "source": [
    "#### Analyse variables/variables\n",
    "- blood/blood: certaines variables très corrélées (+0.9) => à surveiller plus tard\n",
    "- blood/age: : corrélation très faible\n",
    "- viral/viral: Influenza rapid test (A et B) donnent de mauvais résultats => il faudra cerainement les supprimer \n",
    "- viral/blood: Relation différente que la relation target/blood. Taux sanguins entre simples malades et covid-19 sont différents\n",
    "- hospitalisation/blood: intéressant dans le cas où l'on voudrait prédire dans quelle service un patient devrait aller\n",
    "\n",
    "#### Nan analyse\n",
    "viral: 1350 données présentes avec une proportion target positif/negatif 92/8, blood: 600 données propo 87/13\n",
    "\n",
    "**Tips**:\n",
    "- sns.pairplot\n",
    "- sns.heatmap\n",
    "- sns.clustermap\n",
    "- deux variables que l'on compare avec une autre grâce à histplot"
   ]
  },
  {
   "cell_type": "markdown",
   "id": "f6476f35",
   "metadata": {},
   "source": [
    "Blood/Blood"
   ]
  },
  {
   "cell_type": "code",
   "execution_count": null,
   "id": "661411e2",
   "metadata": {},
   "outputs": [],
   "source": [
    "#sns.pairplot(df[blood_columns])\n",
    "sns.heatmap(df[blood_columns].corr())\n",
    "sns.clustermap(df[blood_columns].corr())"
   ]
  },
  {
   "cell_type": "markdown",
   "id": "0be9758a",
   "metadata": {},
   "source": [
    "blood/age"
   ]
  },
  {
   "cell_type": "code",
   "execution_count": null,
   "id": "82de136e",
   "metadata": {},
   "outputs": [],
   "source": [
    "for col in blood_columns:\n",
    "    plt.figure()\n",
    "    sns.lmplot(x=\"Patient age quantile\", y=col, hue=\"SARS-Cov-2 exam result\", data=df) # => pas de corrélation linéaire"
   ]
  },
  {
   "cell_type": "code",
   "execution_count": null,
   "id": "cdaa2bc7",
   "metadata": {},
   "outputs": [],
   "source": [
    "df_blood_columns_and_age = df[blood_columns]\n",
    "df_blood_columns_and_age[\"Patient age quantile\"] = df[\"Patient age quantile\"]\n",
    "df_blood_columns_and_age.corr()[\"Patient age quantile\"].sort_values()"
   ]
  },
  {
   "cell_type": "markdown",
   "id": "b5c01741",
   "metadata": {},
   "source": [
    "Relation entre Influenza et rapid test"
   ]
  },
  {
   "cell_type": "code",
   "execution_count": null,
   "id": "771a7341",
   "metadata": {},
   "outputs": [],
   "source": [
    "display(pd.crosstab(df[\"Influenza A\"], df[\"Influenza A, rapid test\"])) # Tests peu confiants\n",
    "display(pd.crosstab(df[\"Influenza B\"], df[\"Influenza B, rapid test\"]))"
   ]
  },
  {
   "cell_type": "markdown",
   "id": "01d1dacf",
   "metadata": {},
   "source": [
    "Reation viral/sanguin"
   ]
  },
  {
   "cell_type": "code",
   "execution_count": 120,
   "id": "2d5d0838",
   "metadata": {},
   "outputs": [],
   "source": [
    "#Création d'une variable \"malade\" qui compte le nombre de virus détectés pour chaque patient\n",
    "df[\"malade\"] = np.sum(df[viral_columns[:-2]] == \"detected\", axis=1)\n",
    "#Création de deux variables \"malade_df\" et \"non_malade_df\" qui contiennent respectivement les patients malades et non malades\n",
    "malade_df = df[df[\"malade\"] > 0]\n",
    "non_malade_df = df[df[\"malade\"] == 0]"
   ]
  },
  {
   "cell_type": "code",
   "execution_count": null,
   "id": "7b5275f4",
   "metadata": {},
   "outputs": [],
   "source": [
    "for col in blood_columns:\n",
    "    plt.figure()\n",
    "    sns.histplot(malade_df[col], label=\"malade\", kde=True, alpha=0.5, color=\"blue\", stat=\"density\")\n",
    "    sns.histplot(non_malade_df[col], label=\"non_malade\", kde=True, alpha=0.5, color=\"red\", stat=\"density\")\n",
    "    plt.legend()\n",
    "    plt.title(f\"{col} (positive vs negative)\")\n",
    "    plt.ylabel(\"Densité\")\n",
    "    plt.show()"
   ]
  },
  {
   "cell_type": "markdown",
   "id": "b12194df",
   "metadata": {},
   "source": [
    "Hospitalisation/blood"
   ]
  },
  {
   "cell_type": "code",
   "execution_count": 124,
   "id": "3feae833",
   "metadata": {},
   "outputs": [],
   "source": [
    "def hospitalisation(df):\n",
    "    if df[\"Patient addmited to regular ward (1=yes, 0=no)\"] == 1:\n",
    "        return \"surveillance\"\n",
    "    elif df[\"Patient addmited to semi-intensive unit (1=yes, 0=no)\"] == 1:\n",
    "        return \"semi-intensive\"\n",
    "    elif df[\"Patient addmited to intensive care unit (1=yes, 0=no)\"] == 1:\n",
    "        return \"intensive\"\n",
    "    else:\n",
    "        return \"no_hospitalisation\"\n",
    "    "
   ]
  },
  {
   "cell_type": "code",
   "execution_count": null,
   "id": "b437dd13",
   "metadata": {},
   "outputs": [
    {
     "data": {
      "text/plain": [
       "array(['no_hospitalisation', 'semi-intensive', 'surveillance',\n",
       "       'intensive'], dtype=object)"
      ]
     },
     "execution_count": 141,
     "metadata": {},
     "output_type": "execute_result"
    }
   ],
   "source": [
    "df[\"statut\"] = df.apply(hospitalisation, axis=1)\n",
    "df[\"statut\"].value_counts()\n",
    "df[\"statut\"].unique()"
   ]
  },
  {
   "cell_type": "code",
   "execution_count": null,
   "id": "275cd890",
   "metadata": {},
   "outputs": [],
   "source": [
    "for col in blood_columns:\n",
    "    plt.figure()\n",
    "    for cat in df[\"statut\"].unique():\n",
    "        sns.histplot(df[df[\"statut\"] == cat][col], label=cat, kde=True, alpha=0.5, stat=\"density\")\n",
    "    plt.legend() "
   ]
  },
  {
   "cell_type": "code",
   "execution_count": null,
   "id": "1771b358",
   "metadata": {},
   "outputs": [],
   "source": [
    "# Si on ne travail qu'avec les colonnes sanguines\n",
    "print(df[blood_columns].count())\n",
    "# Si on ne travail qu'avec les colonnes virales\n",
    "print(df[viral_columns].count())"
   ]
  }
 ],
 "metadata": {
  "kernelspec": {
   "display_name": "Python 3",
   "language": "python",
   "name": "python3"
  },
  "language_info": {
   "codemirror_mode": {
    "name": "ipython",
    "version": 3
   },
   "file_extension": ".py",
   "mimetype": "text/x-python",
   "name": "python",
   "nbconvert_exporter": "python",
   "pygments_lexer": "ipython3",
   "version": "3.12.3"
  }
 },
 "nbformat": 4,
 "nbformat_minor": 5
}
